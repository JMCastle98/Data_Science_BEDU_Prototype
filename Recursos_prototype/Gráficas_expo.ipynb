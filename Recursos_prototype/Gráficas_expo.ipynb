{
  "nbformat": 4,
  "nbformat_minor": 0,
  "metadata": {
    "colab": {
      "name": "Recursos_prototype.ipynb",
      "provenance": [],
      "authorship_tag": "ABX9TyNIDQMuXiY93wVP4VIpiPj6",
      "include_colab_link": true
    },
    "kernelspec": {
      "name": "python3",
      "display_name": "Python 3"
    },
    "language_info": {
      "name": "python"
    }
  },
  "cells": [
    {
      "cell_type": "markdown",
      "metadata": {
        "id": "view-in-github",
        "colab_type": "text"
      },
      "source": [
        "<a href=\"https://colab.research.google.com/github/JMCastle98/Data_Science_BEDU_Prototype/blob/main/Recursos_prototype/Gr%C3%A1ficas_expo.ipynb\" target=\"_parent\"><img src=\"https://colab.research.google.com/assets/colab-badge.svg\" alt=\"Open In Colab\"/></a>"
      ]
    },
    {
      "cell_type": "markdown",
      "metadata": {
        "id": "SAd6VKs1llfp"
      },
      "source": [
        "# Torneos en la última década"
      ]
    },
    {
      "cell_type": "code",
      "metadata": {
        "id": "dt4xwzM5WJwF"
      },
      "source": [
        "import pandas as pd\n",
        "from datetime import *\n",
        "import matplotlib.pyplot as plt\n",
        "import seaborn as sns"
      ],
      "execution_count": null,
      "outputs": []
    },
    {
      "cell_type": "code",
      "metadata": {
        "id": "XNdeoN9uWOEv"
      },
      "source": [
        "historical = pd.read_csv('https://raw.githubusercontent.com/JMCastle98/Data_Science_BEDU_Prototype/main/Data/HistoricalEsportData.csv',encoding='UTF')"
      ],
      "execution_count": null,
      "outputs": []
    },
    {
      "cell_type": "code",
      "metadata": {
        "colab": {
          "base_uri": "https://localhost:8080/",
          "height": 195
        },
        "id": "bve8QjqUdei6",
        "outputId": "257802c6-7d71-4d39-ddbb-d09e7760a9a4"
      },
      "source": [
        "historical['Date'] = historical['Date'].apply(datetime.strptime, args=('%d/%m/%Y',))\n",
        "historical['Month'] = historical['Date'].dt.month\n",
        "historical['Year'] = historical['Date'].dt.year\n",
        "historical.head()"
      ],
      "execution_count": null,
      "outputs": [
        {
          "output_type": "execute_result",
          "data": {
            "text/html": [
              "<div>\n",
              "<style scoped>\n",
              "    .dataframe tbody tr th:only-of-type {\n",
              "        vertical-align: middle;\n",
              "    }\n",
              "\n",
              "    .dataframe tbody tr th {\n",
              "        vertical-align: top;\n",
              "    }\n",
              "\n",
              "    .dataframe thead th {\n",
              "        text-align: right;\n",
              "    }\n",
              "</style>\n",
              "<table border=\"1\" class=\"dataframe\">\n",
              "  <thead>\n",
              "    <tr style=\"text-align: right;\">\n",
              "      <th></th>\n",
              "      <th>Date</th>\n",
              "      <th>Game</th>\n",
              "      <th>Earnings</th>\n",
              "      <th>Players</th>\n",
              "      <th>Tournaments</th>\n",
              "      <th>Month</th>\n",
              "      <th>Year</th>\n",
              "    </tr>\n",
              "  </thead>\n",
              "  <tbody>\n",
              "    <tr>\n",
              "      <th>0</th>\n",
              "      <td>1998-01-01</td>\n",
              "      <td>QuakeWorld</td>\n",
              "      <td>15000.0</td>\n",
              "      <td>8</td>\n",
              "      <td>1</td>\n",
              "      <td>1</td>\n",
              "      <td>1998</td>\n",
              "    </tr>\n",
              "    <tr>\n",
              "      <th>1</th>\n",
              "      <td>1998-05-01</td>\n",
              "      <td>Quake II</td>\n",
              "      <td>14600.0</td>\n",
              "      <td>4</td>\n",
              "      <td>1</td>\n",
              "      <td>5</td>\n",
              "      <td>1998</td>\n",
              "    </tr>\n",
              "    <tr>\n",
              "      <th>2</th>\n",
              "      <td>1998-07-01</td>\n",
              "      <td>Quake II</td>\n",
              "      <td>15000.0</td>\n",
              "      <td>5</td>\n",
              "      <td>1</td>\n",
              "      <td>7</td>\n",
              "      <td>1998</td>\n",
              "    </tr>\n",
              "    <tr>\n",
              "      <th>3</th>\n",
              "      <td>1998-07-01</td>\n",
              "      <td>QuakeWorld</td>\n",
              "      <td>6500.0</td>\n",
              "      <td>4</td>\n",
              "      <td>1</td>\n",
              "      <td>7</td>\n",
              "      <td>1998</td>\n",
              "    </tr>\n",
              "    <tr>\n",
              "      <th>4</th>\n",
              "      <td>1998-11-01</td>\n",
              "      <td>Quake II</td>\n",
              "      <td>36600.0</td>\n",
              "      <td>13</td>\n",
              "      <td>2</td>\n",
              "      <td>11</td>\n",
              "      <td>1998</td>\n",
              "    </tr>\n",
              "  </tbody>\n",
              "</table>\n",
              "</div>"
            ],
            "text/plain": [
              "        Date        Game  Earnings  Players  Tournaments  Month  Year\n",
              "0 1998-01-01  QuakeWorld   15000.0        8            1      1  1998\n",
              "1 1998-05-01    Quake II   14600.0        4            1      5  1998\n",
              "2 1998-07-01    Quake II   15000.0        5            1      7  1998\n",
              "3 1998-07-01  QuakeWorld    6500.0        4            1      7  1998\n",
              "4 1998-11-01    Quake II   36600.0       13            2     11  1998"
            ]
          },
          "metadata": {
            "tags": []
          },
          "execution_count": 117
        }
      ]
    },
    {
      "cell_type": "code",
      "metadata": {
        "colab": {
          "base_uri": "https://localhost:8080/"
        },
        "id": "LgM0O1Q6JxtV",
        "outputId": "c07cee8a-643c-4937-dd1c-9c303737c66e"
      },
      "source": [
        "historical[(historical['Year'] > 2010) & (historical['Year'] < 2021)].sum()"
      ],
      "execution_count": null,
      "outputs": [
        {
          "output_type": "execute_result",
          "data": {
            "text/plain": [
              "Game           StarCraft IIStarCraft: Brood WarCounter-Strike...\n",
              "Earnings                                              8.8707e+08\n",
              "Players                                                   302851\n",
              "Tournaments                                                38714\n",
              "Month                                                      34066\n",
              "Year                                                    10421145\n",
              "dtype: object"
            ]
          },
          "metadata": {
            "tags": []
          },
          "execution_count": 118
        }
      ]
    },
    {
      "cell_type": "code",
      "metadata": {
        "id": "6XR3v0TboLz5"
      },
      "source": [
        "historical = historical[historical['Year'] < 2021]\n",
        "variables = historical.groupby(['Date']).sum()"
      ],
      "execution_count": null,
      "outputs": []
    },
    {
      "cell_type": "code",
      "metadata": {
        "id": "LiUqSywia6Xx",
        "colab": {
          "base_uri": "https://localhost:8080/",
          "height": 373
        },
        "outputId": "2003c3b6-e9f0-42be-a5dd-491d3624b5e1"
      },
      "source": [
        "historical = historical[ (historical['Year'] > 2010) & (historical['Year'] < 2021)]\n",
        "variables = historical.groupby(['Year']).sum()\n",
        "variables"
      ],
      "execution_count": null,
      "outputs": [
        {
          "output_type": "execute_result",
          "data": {
            "text/html": [
              "<div>\n",
              "<style scoped>\n",
              "    .dataframe tbody tr th:only-of-type {\n",
              "        vertical-align: middle;\n",
              "    }\n",
              "\n",
              "    .dataframe tbody tr th {\n",
              "        vertical-align: top;\n",
              "    }\n",
              "\n",
              "    .dataframe thead th {\n",
              "        text-align: right;\n",
              "    }\n",
              "</style>\n",
              "<table border=\"1\" class=\"dataframe\">\n",
              "  <thead>\n",
              "    <tr style=\"text-align: right;\">\n",
              "      <th></th>\n",
              "      <th>Earnings</th>\n",
              "      <th>Players</th>\n",
              "      <th>Tournaments</th>\n",
              "      <th>Month</th>\n",
              "    </tr>\n",
              "    <tr>\n",
              "      <th>Year</th>\n",
              "      <th></th>\n",
              "      <th></th>\n",
              "      <th></th>\n",
              "      <th></th>\n",
              "    </tr>\n",
              "  </thead>\n",
              "  <tbody>\n",
              "    <tr>\n",
              "      <th>2011</th>\n",
              "      <td>1.055105e+07</td>\n",
              "      <td>7501</td>\n",
              "      <td>1659</td>\n",
              "      <td>1708</td>\n",
              "    </tr>\n",
              "    <tr>\n",
              "      <th>2012</th>\n",
              "      <td>1.417576e+07</td>\n",
              "      <td>10279</td>\n",
              "      <td>1987</td>\n",
              "      <td>2051</td>\n",
              "    </tr>\n",
              "    <tr>\n",
              "      <th>2013</th>\n",
              "      <td>2.226329e+07</td>\n",
              "      <td>12794</td>\n",
              "      <td>2297</td>\n",
              "      <td>2254</td>\n",
              "    </tr>\n",
              "    <tr>\n",
              "      <th>2014</th>\n",
              "      <td>3.762319e+07</td>\n",
              "      <td>17460</td>\n",
              "      <td>3135</td>\n",
              "      <td>2546</td>\n",
              "    </tr>\n",
              "    <tr>\n",
              "      <th>2015</th>\n",
              "      <td>6.718330e+07</td>\n",
              "      <td>30782</td>\n",
              "      <td>5261</td>\n",
              "      <td>3572</td>\n",
              "    </tr>\n",
              "    <tr>\n",
              "      <th>2016</th>\n",
              "      <td>9.814178e+07</td>\n",
              "      <td>34138</td>\n",
              "      <td>4793</td>\n",
              "      <td>3399</td>\n",
              "    </tr>\n",
              "    <tr>\n",
              "      <th>2017</th>\n",
              "      <td>1.166442e+08</td>\n",
              "      <td>39480</td>\n",
              "      <td>4862</td>\n",
              "      <td>4037</td>\n",
              "    </tr>\n",
              "    <tr>\n",
              "      <th>2018</th>\n",
              "      <td>1.653498e+08</td>\n",
              "      <td>46286</td>\n",
              "      <td>4701</td>\n",
              "      <td>4715</td>\n",
              "    </tr>\n",
              "    <tr>\n",
              "      <th>2019</th>\n",
              "      <td>2.362341e+08</td>\n",
              "      <td>55353</td>\n",
              "      <td>5585</td>\n",
              "      <td>5359</td>\n",
              "    </tr>\n",
              "    <tr>\n",
              "      <th>2020</th>\n",
              "      <td>1.189031e+08</td>\n",
              "      <td>48778</td>\n",
              "      <td>4434</td>\n",
              "      <td>4425</td>\n",
              "    </tr>\n",
              "  </tbody>\n",
              "</table>\n",
              "</div>"
            ],
            "text/plain": [
              "          Earnings  Players  Tournaments  Month\n",
              "Year                                           \n",
              "2011  1.055105e+07     7501         1659   1708\n",
              "2012  1.417576e+07    10279         1987   2051\n",
              "2013  2.226329e+07    12794         2297   2254\n",
              "2014  3.762319e+07    17460         3135   2546\n",
              "2015  6.718330e+07    30782         5261   3572\n",
              "2016  9.814178e+07    34138         4793   3399\n",
              "2017  1.166442e+08    39480         4862   4037\n",
              "2018  1.653498e+08    46286         4701   4715\n",
              "2019  2.362341e+08    55353         5585   5359\n",
              "2020  1.189031e+08    48778         4434   4425"
            ]
          },
          "metadata": {
            "tags": []
          },
          "execution_count": 119
        }
      ]
    },
    {
      "cell_type": "code",
      "metadata": {
        "id": "SLooN3hrKYFa"
      },
      "source": [
        "tournaments_ts = variables.reset_index()[['Year','Tournaments']]"
      ],
      "execution_count": null,
      "outputs": []
    },
    {
      "cell_type": "code",
      "metadata": {
        "colab": {
          "base_uri": "https://localhost:8080/",
          "height": 343
        },
        "id": "eLwcKwUcMVd3",
        "outputId": "fda07ad9-54ff-402c-f8a6-19a52d707802"
      },
      "source": [
        "tournaments_ts"
      ],
      "execution_count": null,
      "outputs": [
        {
          "output_type": "execute_result",
          "data": {
            "text/html": [
              "<div>\n",
              "<style scoped>\n",
              "    .dataframe tbody tr th:only-of-type {\n",
              "        vertical-align: middle;\n",
              "    }\n",
              "\n",
              "    .dataframe tbody tr th {\n",
              "        vertical-align: top;\n",
              "    }\n",
              "\n",
              "    .dataframe thead th {\n",
              "        text-align: right;\n",
              "    }\n",
              "</style>\n",
              "<table border=\"1\" class=\"dataframe\">\n",
              "  <thead>\n",
              "    <tr style=\"text-align: right;\">\n",
              "      <th></th>\n",
              "      <th>Year</th>\n",
              "      <th>Tournaments</th>\n",
              "    </tr>\n",
              "  </thead>\n",
              "  <tbody>\n",
              "    <tr>\n",
              "      <th>0</th>\n",
              "      <td>2011</td>\n",
              "      <td>1659</td>\n",
              "    </tr>\n",
              "    <tr>\n",
              "      <th>1</th>\n",
              "      <td>2012</td>\n",
              "      <td>1987</td>\n",
              "    </tr>\n",
              "    <tr>\n",
              "      <th>2</th>\n",
              "      <td>2013</td>\n",
              "      <td>2297</td>\n",
              "    </tr>\n",
              "    <tr>\n",
              "      <th>3</th>\n",
              "      <td>2014</td>\n",
              "      <td>3135</td>\n",
              "    </tr>\n",
              "    <tr>\n",
              "      <th>4</th>\n",
              "      <td>2015</td>\n",
              "      <td>5261</td>\n",
              "    </tr>\n",
              "    <tr>\n",
              "      <th>5</th>\n",
              "      <td>2016</td>\n",
              "      <td>4793</td>\n",
              "    </tr>\n",
              "    <tr>\n",
              "      <th>6</th>\n",
              "      <td>2017</td>\n",
              "      <td>4862</td>\n",
              "    </tr>\n",
              "    <tr>\n",
              "      <th>7</th>\n",
              "      <td>2018</td>\n",
              "      <td>4701</td>\n",
              "    </tr>\n",
              "    <tr>\n",
              "      <th>8</th>\n",
              "      <td>2019</td>\n",
              "      <td>5585</td>\n",
              "    </tr>\n",
              "    <tr>\n",
              "      <th>9</th>\n",
              "      <td>2020</td>\n",
              "      <td>4434</td>\n",
              "    </tr>\n",
              "  </tbody>\n",
              "</table>\n",
              "</div>"
            ],
            "text/plain": [
              "   Year  Tournaments\n",
              "0  2011         1659\n",
              "1  2012         1987\n",
              "2  2013         2297\n",
              "3  2014         3135\n",
              "4  2015         5261\n",
              "5  2016         4793\n",
              "6  2017         4862\n",
              "7  2018         4701\n",
              "8  2019         5585\n",
              "9  2020         4434"
            ]
          },
          "metadata": {
            "tags": []
          },
          "execution_count": 121
        }
      ]
    },
    {
      "cell_type": "code",
      "metadata": {
        "id": "cBwWGo6Xo5dM",
        "colab": {
          "base_uri": "https://localhost:8080/",
          "height": 738
        },
        "outputId": "f9b1c93b-c5d0-4d65-9297-e433d1740aa1"
      },
      "source": [
        "plt.figure(figsize=[15, 11])\n",
        "sns.set(style=\"white\")\n",
        "sns.barplot(tournaments_ts['Year'],tournaments_ts['Tournaments'],palette='bwr_r')\n",
        "\n",
        "sns.despine()            \n",
        "plt.title(\"Torneos de eSports en los últimos 10 años\", fontsize = 25)\n",
        "plt.ylabel(\"\", fontsize = 20)\n",
        "plt.yticks(fontsize=20)\n",
        "plt.xlabel(\"\", fontsize =20)\n",
        "plt.xticks(fontsize=20)\n",
        "plt.show()"
      ],
      "execution_count": null,
      "outputs": [
        {
          "output_type": "stream",
          "text": [
            "/usr/local/lib/python3.7/dist-packages/seaborn/_decorators.py:43: FutureWarning: Pass the following variables as keyword args: x, y. From version 0.12, the only valid positional argument will be `data`, and passing other arguments without an explicit keyword will result in an error or misinterpretation.\n",
            "  FutureWarning\n"
          ],
          "name": "stderr"
        },
        {
          "output_type": "display_data",
          "data": {
            "image/png": "[encoded data removed]",
            "text/plain": [
              "<Figure size 1080x792 with 1 Axes>"
            ]
          },
          "metadata": {
            "tags": []
          }
        }
      ]
    },
    {
      "cell_type": "markdown",
      "metadata": {
        "id": "4XJ-BZRrlkCf"
      },
      "source": [
        "# Equipos con los mejores premios (Top 5)"
      ]
    },
    {
      "cell_type": "code",
      "metadata": {
        "id": "aRXpRMa6l4kk"
      },
      "source": [
        "teams = pd.read_csv('https://raw.githubusercontent.com/LKXoro/BEDU-Rstudio-postworks/main/Proyecto/DataSets/highest_earning_teams.csv',encoding='UTF')"
      ],
      "execution_count": null,
      "outputs": []
    },
    {
      "cell_type": "code",
      "metadata": {
        "colab": {
          "base_uri": "https://localhost:8080/",
          "height": 195
        },
        "id": "uc36l4rNmHIj",
        "outputId": "5bbab274-1a33-472f-99c5-7c0d5505a53d"
      },
      "source": [
        "teams.head()"
      ],
      "execution_count": null,
      "outputs": [
        {
          "output_type": "execute_result",
          "data": {
            "text/html": [
              "<div>\n",
              "<style scoped>\n",
              "    .dataframe tbody tr th:only-of-type {\n",
              "        vertical-align: middle;\n",
              "    }\n",
              "\n",
              "    .dataframe tbody tr th {\n",
              "        vertical-align: top;\n",
              "    }\n",
              "\n",
              "    .dataframe thead th {\n",
              "        text-align: right;\n",
              "    }\n",
              "</style>\n",
              "<table border=\"1\" class=\"dataframe\">\n",
              "  <thead>\n",
              "    <tr style=\"text-align: right;\">\n",
              "      <th></th>\n",
              "      <th>TeamId</th>\n",
              "      <th>TeamName</th>\n",
              "      <th>TotalUSDPrize</th>\n",
              "      <th>TotalTournaments</th>\n",
              "      <th>Game</th>\n",
              "      <th>Genre</th>\n",
              "    </tr>\n",
              "  </thead>\n",
              "  <tbody>\n",
              "    <tr>\n",
              "      <th>0</th>\n",
              "      <td>760</td>\n",
              "      <td>San Francisco Shock</td>\n",
              "      <td>3105000.0</td>\n",
              "      <td>7</td>\n",
              "      <td>Overwatch</td>\n",
              "      <td>First-Person Shooter</td>\n",
              "    </tr>\n",
              "    <tr>\n",
              "      <th>1</th>\n",
              "      <td>776</td>\n",
              "      <td>London Spitfire</td>\n",
              "      <td>1591136.5</td>\n",
              "      <td>13</td>\n",
              "      <td>Overwatch</td>\n",
              "      <td>First-Person Shooter</td>\n",
              "    </tr>\n",
              "    <tr>\n",
              "      <th>2</th>\n",
              "      <td>768</td>\n",
              "      <td>New York Excelsior</td>\n",
              "      <td>1572618.5</td>\n",
              "      <td>18</td>\n",
              "      <td>Overwatch</td>\n",
              "      <td>First-Person Shooter</td>\n",
              "    </tr>\n",
              "    <tr>\n",
              "      <th>3</th>\n",
              "      <td>773</td>\n",
              "      <td>Philadelphia Fusion</td>\n",
              "      <td>1186278.5</td>\n",
              "      <td>15</td>\n",
              "      <td>Overwatch</td>\n",
              "      <td>First-Person Shooter</td>\n",
              "    </tr>\n",
              "    <tr>\n",
              "      <th>4</th>\n",
              "      <td>766</td>\n",
              "      <td>Seoul Dynasty</td>\n",
              "      <td>1130000.0</td>\n",
              "      <td>6</td>\n",
              "      <td>Overwatch</td>\n",
              "      <td>First-Person Shooter</td>\n",
              "    </tr>\n",
              "  </tbody>\n",
              "</table>\n",
              "</div>"
            ],
            "text/plain": [
              "   TeamId             TeamName  ...       Game                 Genre\n",
              "0     760  San Francisco Shock  ...  Overwatch  First-Person Shooter\n",
              "1     776      London Spitfire  ...  Overwatch  First-Person Shooter\n",
              "2     768   New York Excelsior  ...  Overwatch  First-Person Shooter\n",
              "3     773  Philadelphia Fusion  ...  Overwatch  First-Person Shooter\n",
              "4     766        Seoul Dynasty  ...  Overwatch  First-Person Shooter\n",
              "\n",
              "[5 rows x 6 columns]"
            ]
          },
          "metadata": {
            "tags": []
          },
          "execution_count": 219
        }
      ]
    },
    {
      "cell_type": "code",
      "metadata": {
        "colab": {
          "base_uri": "https://localhost:8080/",
          "height": 77
        },
        "id": "aU7oRoOVpnNV",
        "outputId": "7358b45d-3fe7-4cfc-e097-4b3857c3c592"
      },
      "source": [
        "teams[teams['TotalUSDPrize'] == max(teams.TotalUSDPrize) ]"
      ],
      "execution_count": null,
      "outputs": [
        {
          "output_type": "execute_result",
          "data": {
            "text/html": [
              "<div>\n",
              "<style scoped>\n",
              "    .dataframe tbody tr th:only-of-type {\n",
              "        vertical-align: middle;\n",
              "    }\n",
              "\n",
              "    .dataframe tbody tr th {\n",
              "        vertical-align: top;\n",
              "    }\n",
              "\n",
              "    .dataframe thead th {\n",
              "        text-align: right;\n",
              "    }\n",
              "</style>\n",
              "<table border=\"1\" class=\"dataframe\">\n",
              "  <thead>\n",
              "    <tr style=\"text-align: right;\">\n",
              "      <th></th>\n",
              "      <th>TeamId</th>\n",
              "      <th>TeamName</th>\n",
              "      <th>TotalUSDPrize</th>\n",
              "      <th>TotalTournaments</th>\n",
              "      <th>Game</th>\n",
              "      <th>Genre</th>\n",
              "    </tr>\n",
              "  </thead>\n",
              "  <tbody>\n",
              "    <tr>\n",
              "      <th>500</th>\n",
              "      <td>419</td>\n",
              "      <td>OG</td>\n",
              "      <td>33810636.13</td>\n",
              "      <td>68</td>\n",
              "      <td>Dota 2</td>\n",
              "      <td>Multiplayer Online Battle Arena</td>\n",
              "    </tr>\n",
              "  </tbody>\n",
              "</table>\n",
              "</div>"
            ],
            "text/plain": [
              "     TeamId TeamName  ...    Game                            Genre\n",
              "500     419       OG  ...  Dota 2  Multiplayer Online Battle Arena\n",
              "\n",
              "[1 rows x 6 columns]"
            ]
          },
          "metadata": {
            "tags": []
          },
          "execution_count": 216
        }
      ]
    },
    {
      "cell_type": "code",
      "metadata": {
        "colab": {
          "base_uri": "https://localhost:8080/"
        },
        "id": "tsrLz0MqmHn9",
        "outputId": "739519b7-59f1-4c60-dc70-8768da7b5462"
      },
      "source": [
        "prize = teams.groupby(by='Genre')['TotalUSDPrize'].max()\n",
        "prize = genres.sort_values(ascending=False)\n",
        "prize"
      ],
      "execution_count": null,
      "outputs": [
        {
          "output_type": "execute_result",
          "data": {
            "text/plain": [
              "Genre\n",
              "Multiplayer Online Battle Arena    33810636.13\n",
              "First-Person Shooter                8503918.81\n",
              "Battle Royale                       3708150.00\n",
              "Strategy                            2546572.70\n",
              "Collectible Card Game               1656839.93\n",
              "Name: TotalUSDPrize, dtype: float64"
            ]
          },
          "metadata": {
            "tags": []
          },
          "execution_count": 218
        }
      ]
    },
    {
      "cell_type": "code",
      "metadata": {
        "colab": {
          "base_uri": "https://localhost:8080/"
        },
        "id": "ltvJHFWpvvVg",
        "outputId": "b05d02ec-846a-470f-f764-43769e369db8"
      },
      "source": [
        "prize[2]"
      ],
      "execution_count": null,
      "outputs": [
        {
          "output_type": "execute_result",
          "data": {
            "text/plain": [
              "3708150.0"
            ]
          },
          "metadata": {
            "tags": []
          },
          "execution_count": 209
        }
      ]
    },
    {
      "cell_type": "code",
      "metadata": {
        "id": "kR0fumemneCg"
      },
      "source": [
        "top = []\n",
        "for i in range(0,len(prize)):\n",
        "     team = teams[teams['TotalUSDPrize'] == prize[i]]\n",
        "     if i == 0: \n",
        "         top = team\n",
        "     else: \n",
        "         top = top.append(team)\n"
      ],
      "execution_count": null,
      "outputs": []
    },
    {
      "cell_type": "code",
      "metadata": {
        "colab": {
          "base_uri": "https://localhost:8080/",
          "height": 195
        },
        "id": "5zWMfsf3uwyv",
        "outputId": "3c65f4c3-3475-4547-de50-f1e11bb670ce"
      },
      "source": [
        "top.sort_values(by='TotalUSDPrize',ascending=False)"
      ],
      "execution_count": null,
      "outputs": [
        {
          "output_type": "execute_result",
          "data": {
            "text/html": [
              "<div>\n",
              "<style scoped>\n",
              "    .dataframe tbody tr th:only-of-type {\n",
              "        vertical-align: middle;\n",
              "    }\n",
              "\n",
              "    .dataframe tbody tr th {\n",
              "        vertical-align: top;\n",
              "    }\n",
              "\n",
              "    .dataframe thead th {\n",
              "        text-align: right;\n",
              "    }\n",
              "</style>\n",
              "<table border=\"1\" class=\"dataframe\">\n",
              "  <thead>\n",
              "    <tr style=\"text-align: right;\">\n",
              "      <th></th>\n",
              "      <th>TeamId</th>\n",
              "      <th>TeamName</th>\n",
              "      <th>TotalUSDPrize</th>\n",
              "      <th>TotalTournaments</th>\n",
              "      <th>Game</th>\n",
              "      <th>Genre</th>\n",
              "    </tr>\n",
              "  </thead>\n",
              "  <tbody>\n",
              "    <tr>\n",
              "      <th>500</th>\n",
              "      <td>419</td>\n",
              "      <td>OG</td>\n",
              "      <td>33810636.13</td>\n",
              "      <td>68</td>\n",
              "      <td>Dota 2</td>\n",
              "      <td>Multiplayer Online Battle Arena</td>\n",
              "    </tr>\n",
              "    <tr>\n",
              "      <th>400</th>\n",
              "      <td>466</td>\n",
              "      <td>Astralis</td>\n",
              "      <td>8503918.81</td>\n",
              "      <td>95</td>\n",
              "      <td>Counter-Strike: Global Offensive</td>\n",
              "      <td>First-Person Shooter</td>\n",
              "    </tr>\n",
              "    <tr>\n",
              "      <th>300</th>\n",
              "      <td>571</td>\n",
              "      <td>Lazarus</td>\n",
              "      <td>3708150.00</td>\n",
              "      <td>24</td>\n",
              "      <td>Fortnite</td>\n",
              "      <td>Battle Royale</td>\n",
              "    </tr>\n",
              "    <tr>\n",
              "      <th>100</th>\n",
              "      <td>181</td>\n",
              "      <td>Jin Air Green Wings</td>\n",
              "      <td>2546572.70</td>\n",
              "      <td>379</td>\n",
              "      <td>Starcraft II</td>\n",
              "      <td>Strategy</td>\n",
              "    </tr>\n",
              "    <tr>\n",
              "      <th>800</th>\n",
              "      <td>132</td>\n",
              "      <td>MVP</td>\n",
              "      <td>1656839.93</td>\n",
              "      <td>24</td>\n",
              "      <td>Hearthstone</td>\n",
              "      <td>Collectible Card Game</td>\n",
              "    </tr>\n",
              "  </tbody>\n",
              "</table>\n",
              "</div>"
            ],
            "text/plain": [
              "     TeamId  ...                            Genre\n",
              "500     419  ...  Multiplayer Online Battle Arena\n",
              "400     466  ...             First-Person Shooter\n",
              "300     571  ...                    Battle Royale\n",
              "100     181  ...                         Strategy\n",
              "800     132  ...            Collectible Card Game\n",
              "\n",
              "[5 rows x 6 columns]"
            ]
          },
          "metadata": {
            "tags": []
          },
          "execution_count": 223
        }
      ]
    },
    {
      "cell_type": "markdown",
      "metadata": {
        "id": "SdJwexplxtIt"
      },
      "source": [
        "# Espectadores en Streaming"
      ]
    },
    {
      "cell_type": "code",
      "metadata": {
        "id": "j_kWm2cpT2Pq"
      },
      "source": [
        "import pandas as pd\n",
        "from datetime import *\n",
        "import matplotlib.pyplot as plt\n",
        "import seaborn as sns"
      ],
      "execution_count": null,
      "outputs": []
    },
    {
      "cell_type": "code",
      "metadata": {
        "id": "-3q7qx_9x9Q6"
      },
      "source": [
        "twitch = pd.read_csv('https://raw.githubusercontent.com/JMCastle98/Data_Science_BEDU_Prototype/main/Data/Twitch_game_data.csv')"
      ],
      "execution_count": null,
      "outputs": []
    },
    {
      "cell_type": "code",
      "metadata": {
        "colab": {
          "base_uri": "https://localhost:8080/",
          "height": 198
        },
        "id": "jKNIXTP9x9zS",
        "outputId": "fe3866ef-4b09-4d99-8d4a-b81ff1597f36"
      },
      "source": [
        "twitch.head()"
      ],
      "execution_count": null,
      "outputs": [
        {
          "output_type": "execute_result",
          "data": {
            "text/html": [
              "<div>\n",
              "<style scoped>\n",
              "    .dataframe tbody tr th:only-of-type {\n",
              "        vertical-align: middle;\n",
              "    }\n",
              "\n",
              "    .dataframe tbody tr th {\n",
              "        vertical-align: top;\n",
              "    }\n",
              "\n",
              "    .dataframe thead th {\n",
              "        text-align: right;\n",
              "    }\n",
              "</style>\n",
              "<table border=\"1\" class=\"dataframe\">\n",
              "  <thead>\n",
              "    <tr style=\"text-align: right;\">\n",
              "      <th></th>\n",
              "      <th>Rank</th>\n",
              "      <th>Game</th>\n",
              "      <th>Month</th>\n",
              "      <th>Year</th>\n",
              "      <th>Hours_watched</th>\n",
              "      <th>Hours_Streamed</th>\n",
              "      <th>Peak_viewers</th>\n",
              "      <th>Peak_channels</th>\n",
              "      <th>Streamers</th>\n",
              "      <th>Avg_viewers</th>\n",
              "      <th>Avg_channels</th>\n",
              "      <th>Avg_viewer_ratio</th>\n",
              "    </tr>\n",
              "  </thead>\n",
              "  <tbody>\n",
              "    <tr>\n",
              "      <th>0</th>\n",
              "      <td>1</td>\n",
              "      <td>League of Legends</td>\n",
              "      <td>1</td>\n",
              "      <td>2016</td>\n",
              "      <td>94377226</td>\n",
              "      <td>1362044 hours</td>\n",
              "      <td>530270</td>\n",
              "      <td>2903</td>\n",
              "      <td>129172</td>\n",
              "      <td>127021</td>\n",
              "      <td>1833</td>\n",
              "      <td>69.29</td>\n",
              "    </tr>\n",
              "    <tr>\n",
              "      <th>1</th>\n",
              "      <td>2</td>\n",
              "      <td>Counter-Strike: Global Offensive</td>\n",
              "      <td>1</td>\n",
              "      <td>2016</td>\n",
              "      <td>47832863</td>\n",
              "      <td>830105 hours</td>\n",
              "      <td>372654</td>\n",
              "      <td>2197</td>\n",
              "      <td>120849</td>\n",
              "      <td>64378</td>\n",
              "      <td>1117</td>\n",
              "      <td>57.62</td>\n",
              "    </tr>\n",
              "    <tr>\n",
              "      <th>2</th>\n",
              "      <td>3</td>\n",
              "      <td>Dota 2</td>\n",
              "      <td>1</td>\n",
              "      <td>2016</td>\n",
              "      <td>45185893</td>\n",
              "      <td>433397 hours</td>\n",
              "      <td>315083</td>\n",
              "      <td>1100</td>\n",
              "      <td>44074</td>\n",
              "      <td>60815</td>\n",
              "      <td>583</td>\n",
              "      <td>104.26</td>\n",
              "    </tr>\n",
              "    <tr>\n",
              "      <th>3</th>\n",
              "      <td>4</td>\n",
              "      <td>Hearthstone</td>\n",
              "      <td>1</td>\n",
              "      <td>2016</td>\n",
              "      <td>39936159</td>\n",
              "      <td>235903 hours</td>\n",
              "      <td>131357</td>\n",
              "      <td>517</td>\n",
              "      <td>36170</td>\n",
              "      <td>53749</td>\n",
              "      <td>317</td>\n",
              "      <td>169.29</td>\n",
              "    </tr>\n",
              "    <tr>\n",
              "      <th>4</th>\n",
              "      <td>5</td>\n",
              "      <td>Call of Duty: Black Ops III</td>\n",
              "      <td>1</td>\n",
              "      <td>2016</td>\n",
              "      <td>16153057</td>\n",
              "      <td>1151578 hours</td>\n",
              "      <td>71639</td>\n",
              "      <td>3620</td>\n",
              "      <td>214054</td>\n",
              "      <td>21740</td>\n",
              "      <td>1549</td>\n",
              "      <td>14.03</td>\n",
              "    </tr>\n",
              "  </tbody>\n",
              "</table>\n",
              "</div>"
            ],
            "text/plain": [
              "   Rank                              Game  ...  Avg_channels  Avg_viewer_ratio\n",
              "0     1                 League of Legends  ...          1833             69.29\n",
              "1     2  Counter-Strike: Global Offensive  ...          1117             57.62\n",
              "2     3                            Dota 2  ...           583            104.26\n",
              "3     4                       Hearthstone  ...           317            169.29\n",
              "4     5       Call of Duty: Black Ops III  ...          1549             14.03\n",
              "\n",
              "[5 rows x 12 columns]"
            ]
          },
          "metadata": {
            "tags": []
          },
          "execution_count": 3
        }
      ]
    },
    {
      "cell_type": "code",
      "metadata": {
        "colab": {
          "base_uri": "https://localhost:8080/"
        },
        "id": "gzDRtUDByGIk",
        "outputId": "846321a4-7947-4738-821d-bdb4ba95c846"
      },
      "source": [
        "twitch.info()"
      ],
      "execution_count": null,
      "outputs": [
        {
          "output_type": "stream",
          "text": [
            "<class 'pandas.core.frame.DataFrame'>\n",
            "RangeIndex: 12950 entries, 0 to 12949\n",
            "Data columns (total 12 columns):\n",
            " #   Column            Non-Null Count  Dtype  \n",
            "---  ------            --------------  -----  \n",
            " 0   Rank              12950 non-null  int64  \n",
            " 1   Game              12949 non-null  object \n",
            " 2   Month             12950 non-null  int64  \n",
            " 3   Year              12950 non-null  int64  \n",
            " 4   Hours_watched     12950 non-null  int64  \n",
            " 5   Hours_Streamed    12950 non-null  object \n",
            " 6   Peak_viewers      12950 non-null  int64  \n",
            " 7   Peak_channels     12950 non-null  int64  \n",
            " 8   Streamers         12950 non-null  int64  \n",
            " 9   Avg_viewers       12950 non-null  int64  \n",
            " 10  Avg_channels      12950 non-null  int64  \n",
            " 11  Avg_viewer_ratio  12950 non-null  float64\n",
            "dtypes: float64(1), int64(9), object(2)\n",
            "memory usage: 1.2+ MB\n"
          ],
          "name": "stdout"
        }
      ]
    },
    {
      "cell_type": "code",
      "metadata": {
        "colab": {
          "base_uri": "https://localhost:8080/",
          "height": 288
        },
        "id": "VZha-l0yyHUd",
        "outputId": "0c361e01-4a01-4d2a-da7b-7aaf0bcc49a3"
      },
      "source": [
        "twitch.describe()"
      ],
      "execution_count": null,
      "outputs": [
        {
          "output_type": "execute_result",
          "data": {
            "text/html": [
              "<div>\n",
              "<style scoped>\n",
              "    .dataframe tbody tr th:only-of-type {\n",
              "        vertical-align: middle;\n",
              "    }\n",
              "\n",
              "    .dataframe tbody tr th {\n",
              "        vertical-align: top;\n",
              "    }\n",
              "\n",
              "    .dataframe thead th {\n",
              "        text-align: right;\n",
              "    }\n",
              "</style>\n",
              "<table border=\"1\" class=\"dataframe\">\n",
              "  <thead>\n",
              "    <tr style=\"text-align: right;\">\n",
              "      <th></th>\n",
              "      <th>Rank</th>\n",
              "      <th>Month</th>\n",
              "      <th>Year</th>\n",
              "      <th>Hours_watched</th>\n",
              "      <th>Peak_viewers</th>\n",
              "      <th>Peak_channels</th>\n",
              "      <th>Streamers</th>\n",
              "      <th>Avg_viewers</th>\n",
              "      <th>Avg_channels</th>\n",
              "      <th>Avg_viewer_ratio</th>\n",
              "    </tr>\n",
              "  </thead>\n",
              "  <tbody>\n",
              "    <tr>\n",
              "      <th>count</th>\n",
              "      <td>12950.000000</td>\n",
              "      <td>12950.000000</td>\n",
              "      <td>12950.000000</td>\n",
              "      <td>1.295000e+04</td>\n",
              "      <td>1.295000e+04</td>\n",
              "      <td>12950.000000</td>\n",
              "      <td>1.295000e+04</td>\n",
              "      <td>12950.000000</td>\n",
              "      <td>12950.000000</td>\n",
              "      <td>12950.000000</td>\n",
              "    </tr>\n",
              "    <tr>\n",
              "      <th>mean</th>\n",
              "      <td>100.596525</td>\n",
              "      <td>6.250965</td>\n",
              "      <td>2018.239382</td>\n",
              "      <td>4.373663e+06</td>\n",
              "      <td>5.049613e+04</td>\n",
              "      <td>535.292510</td>\n",
              "      <td>1.630707e+04</td>\n",
              "      <td>5999.024015</td>\n",
              "      <td>198.139151</td>\n",
              "      <td>83.856490</td>\n",
              "    </tr>\n",
              "    <tr>\n",
              "      <th>std</th>\n",
              "      <td>57.819991</td>\n",
              "      <td>3.459041</td>\n",
              "      <td>1.573438</td>\n",
              "      <td>1.551168e+07</td>\n",
              "      <td>1.204230e+05</td>\n",
              "      <td>2546.705423</td>\n",
              "      <td>5.388798e+04</td>\n",
              "      <td>21287.347288</td>\n",
              "      <td>727.151657</td>\n",
              "      <td>376.645129</td>\n",
              "    </tr>\n",
              "    <tr>\n",
              "      <th>min</th>\n",
              "      <td>1.000000</td>\n",
              "      <td>1.000000</td>\n",
              "      <td>2016.000000</td>\n",
              "      <td>8.981100e+04</td>\n",
              "      <td>4.410000e+02</td>\n",
              "      <td>1.000000</td>\n",
              "      <td>0.000000e+00</td>\n",
              "      <td>120.000000</td>\n",
              "      <td>0.000000</td>\n",
              "      <td>2.270000</td>\n",
              "    </tr>\n",
              "    <tr>\n",
              "      <th>25%</th>\n",
              "      <td>50.000000</td>\n",
              "      <td>3.000000</td>\n",
              "      <td>2017.000000</td>\n",
              "      <td>3.365068e+05</td>\n",
              "      <td>7.740500e+03</td>\n",
              "      <td>48.000000</td>\n",
              "      <td>1.360250e+03</td>\n",
              "      <td>461.000000</td>\n",
              "      <td>15.000000</td>\n",
              "      <td>15.950000</td>\n",
              "    </tr>\n",
              "    <tr>\n",
              "      <th>50%</th>\n",
              "      <td>101.000000</td>\n",
              "      <td>6.000000</td>\n",
              "      <td>2018.000000</td>\n",
              "      <td>7.326375e+05</td>\n",
              "      <td>1.861250e+04</td>\n",
              "      <td>111.000000</td>\n",
              "      <td>3.833000e+03</td>\n",
              "      <td>1006.000000</td>\n",
              "      <td>39.000000</td>\n",
              "      <td>29.040000</td>\n",
              "    </tr>\n",
              "    <tr>\n",
              "      <th>75%</th>\n",
              "      <td>151.000000</td>\n",
              "      <td>9.000000</td>\n",
              "      <td>2020.000000</td>\n",
              "      <td>2.031406e+06</td>\n",
              "      <td>4.226725e+04</td>\n",
              "      <td>293.000000</td>\n",
              "      <td>1.008975e+04</td>\n",
              "      <td>2776.750000</td>\n",
              "      <td>111.000000</td>\n",
              "      <td>57.980000</td>\n",
              "    </tr>\n",
              "    <tr>\n",
              "      <th>max</th>\n",
              "      <td>200.000000</td>\n",
              "      <td>12.000000</td>\n",
              "      <td>2021.000000</td>\n",
              "      <td>3.445520e+08</td>\n",
              "      <td>3.123208e+06</td>\n",
              "      <td>129860.000000</td>\n",
              "      <td>1.013029e+06</td>\n",
              "      <td>479209.000000</td>\n",
              "      <td>13789.000000</td>\n",
              "      <td>13601.870000</td>\n",
              "    </tr>\n",
              "  </tbody>\n",
              "</table>\n",
              "</div>"
            ],
            "text/plain": [
              "               Rank         Month  ...  Avg_channels  Avg_viewer_ratio\n",
              "count  12950.000000  12950.000000  ...  12950.000000      12950.000000\n",
              "mean     100.596525      6.250965  ...    198.139151         83.856490\n",
              "std       57.819991      3.459041  ...    727.151657        376.645129\n",
              "min        1.000000      1.000000  ...      0.000000          2.270000\n",
              "25%       50.000000      3.000000  ...     15.000000         15.950000\n",
              "50%      101.000000      6.000000  ...     39.000000         29.040000\n",
              "75%      151.000000      9.000000  ...    111.000000         57.980000\n",
              "max      200.000000     12.000000  ...  13789.000000      13601.870000\n",
              "\n",
              "[8 rows x 10 columns]"
            ]
          },
          "metadata": {
            "tags": []
          },
          "execution_count": 5
        }
      ]
    },
    {
      "cell_type": "code",
      "metadata": {
        "id": "HCj_YJuqyI8P"
      },
      "source": [
        "twitch_2020 = twitch[ (twitch['Year'] == 2020) & (twitch['Game'] != 'Just Chatting') & (twitch['Game'] != 'Special Events') ]"
      ],
      "execution_count": null,
      "outputs": []
    },
    {
      "cell_type": "code",
      "metadata": {
        "id": "yKTfpNvb2HUH"
      },
      "source": [
        "avg_2020 = twitch_2020.groupby(by='Game')['Avg_viewers'].sum().sort_values(ascending = False)\n",
        "top_2020 = avg_2020.iloc[0:10].sort_values(ascending = True)\n",
        "top_2020.rename(index={'Counter-Strike: Global Offensive':'Counter-Strike: GO'},inplace=True)"
      ],
      "execution_count": null,
      "outputs": []
    },
    {
      "cell_type": "code",
      "metadata": {
        "colab": {
          "base_uri": "https://localhost:8080/"
        },
        "id": "zkVUsKx5CJKc",
        "outputId": "c74a6dec-892d-419e-ef68-151a72b230e4"
      },
      "source": [
        "top_2020"
      ],
      "execution_count": null,
      "outputs": [
        {
          "output_type": "execute_result",
          "data": {
            "text/plain": [
              "Game\n",
              "Among Us                  573899\n",
              "World of Warcraft         620496\n",
              "Dota 2                    680206\n",
              "Minecraft                 697819\n",
              "Counter-Strike: GO        977699\n",
              "Call of Duty: Warzone    1105943\n",
              "VALORANT                 1117736\n",
              "Grand Theft Auto V       1126246\n",
              "Fortnite                 1457709\n",
              "League of Legends        2126244\n",
              "Name: Avg_viewers, dtype: int64"
            ]
          },
          "metadata": {
            "tags": []
          },
          "execution_count": 42
        }
      ]
    },
    {
      "cell_type": "code",
      "metadata": {
        "colab": {
          "base_uri": "https://localhost:8080/"
        },
        "id": "n1TcItsw3tf8",
        "outputId": "9524890d-b4b5-47f3-e4b3-8e8e2b669b61"
      },
      "source": [
        "top_2020 = top_2020/1e6\n",
        "top_2020"
      ],
      "execution_count": null,
      "outputs": [
        {
          "output_type": "execute_result",
          "data": {
            "text/plain": [
              "Game\n",
              "Among Us                 0.573899\n",
              "World of Warcraft        0.620496\n",
              "Dota 2                   0.680206\n",
              "Minecraft                0.697819\n",
              "Counter-Strike: GO       0.977699\n",
              "Call of Duty: Warzone    1.105943\n",
              "VALORANT                 1.117736\n",
              "Grand Theft Auto V       1.126246\n",
              "Fortnite                 1.457709\n",
              "League of Legends        2.126244\n",
              "Name: Avg_viewers, dtype: float64"
            ]
          },
          "metadata": {
            "tags": []
          },
          "execution_count": 43
        }
      ]
    },
    {
      "cell_type": "code",
      "metadata": {
        "colab": {
          "base_uri": "https://localhost:8080/"
        },
        "id": "IsU8RdmR_Qch",
        "outputId": "f7451498-4573-4710-d2fc-fbcc7ff731cc"
      },
      "source": [
        "top_2020.sum()"
      ],
      "execution_count": null,
      "outputs": [
        {
          "output_type": "execute_result",
          "data": {
            "text/plain": [
              "10.483997"
            ]
          },
          "metadata": {
            "tags": []
          },
          "execution_count": 44
        }
      ]
    },
    {
      "cell_type": "code",
      "metadata": {
        "colab": {
          "base_uri": "https://localhost:8080/",
          "height": 689
        },
        "id": "_JLFX3ReMRfw",
        "outputId": "99b4d063-0fef-422c-c9b0-f8cc42fd15a3"
      },
      "source": [
        "plt.figure(figsize=[15, 10])\n",
        "sns.set(style=\"white\")\n",
        "sns.barplot(x=top_2020, y=top_2020.index,palette='cool')   \n",
        "sns.despine()        \n",
        "plt.title(\"Top 10 juegos más vistos a lo largo 2020\", fontsize = 30)\n",
        "plt.ylabel(\"\", fontsize = 20)\n",
        "plt.yticks(fontsize=15)\n",
        "plt.xlabel(\"Espectadores (Millones)\", fontsize =20)\n",
        "plt.xticks(fontsize=15)"
      ],
      "execution_count": null,
      "outputs": [
        {
          "output_type": "execute_result",
          "data": {
            "text/plain": [
              "(array([0.  , 0.25, 0.5 , 0.75, 1.  , 1.25, 1.5 , 1.75, 2.  , 2.25]),\n",
              " <a list of 10 Text major ticklabel objects>)"
            ]
          },
          "metadata": {
            "tags": []
          },
          "execution_count": 25
        },
        {
          "output_type": "display_data",
          "data": {
            "image/png": "[encoded data removed]",
            "text/plain": [
              "<Figure size 1080x720 with 1 Axes>"
            ]
          },
          "metadata": {
            "tags": []
          }
        }
      ]
    },
    {
      "cell_type": "code",
      "metadata": {
        "id": "2Y15YVvcMpnd"
      },
      "source": [
        ""
      ],
      "execution_count": null,
      "outputs": []
    },
    {
      "cell_type": "markdown",
      "metadata": {
        "id": "bUPUKNJu2eLI"
      },
      "source": [
        "# Duracion de partidas\n",
        "\n",
        "\n",
        "Sea PandaScore_get_matches() la función que realiza peticiones a nuestra API sobre los enfrentamientos de un juego:"
      ]
    },
    {
      "cell_type": "code",
      "metadata": {
        "id": "ZnsgOVQq05JO"
      },
      "source": [
        "import pandas as pd \n",
        "import math as mt\n",
        "from datetime import *\n",
        "import requests \n",
        "\n",
        "def PandaScore_get_matches(juego): #Definimos nuestra función\n",
        "    if isinstance(juego, str): #Nos aseguramos que los argumentos sean de tipo str\n",
        "        informacion = 'matches'\n",
        "        registros = 100 #Establecemos el número de registros por página\n",
        "        token = 'V3U1fnnWozJi3bbhZfrxdiAmN4-XWnX_4g6i_6iauwwh7w-V8Ns' #Token de acceso\n",
        "        url = f\"https://api.pandascore.co/{juego}/{informacion}?page[size]={registros}&token={token}\" #URL con los parámetros deseados\n",
        "        response = requests.get(url) #Realizamos la petición\n",
        "        if response.status_code == 200: #Si todo salió bien continuamos\n",
        "            Iteraciones = mt.ceil(float(response.headers['X-Total'])/registros) #Calculamos el número de páginas en base a todos los registros que hay en la API\n",
        "            #Al dividir el número total de registros entre los registros solicitados obtenemos un aproximado, para asegurar que tomaremos todos, redondeamos al entero más alto\n",
        "            for i in range(1,Iteraciones+1): #Ciclo for para obtener todos los registros de cada página\n",
        "                url = f\"https://api.pandascore.co/{juego}/{informacion}?page[size]={registros}&page[number]={i}&token=V3U1fnnWozJi3bbhZfrxdiAmN4-XWnX_4g6i_6iauwwh7w-V8Ns\"\n",
        "                #URL el parámetro de página deseada\n",
        "                response = requests.get(url) #Realizamos la petición correspondiente\n",
        "                data = response.json() #Transformamos la respuesta \n",
        "                if i == 1: #En la primer iteración se crea un Dataframe\n",
        "                    df_matches = pd.DataFrame.from_dict(data)\n",
        "                else: #En el resto de iteraciones se van añadiendo los nuevos registros\n",
        "                    df_matches = df_matches.append(pd.DataFrame.from_dict(data),ignore_index=True)                    \n",
        "            return df_matches # Finalmente se devuelve el Dataframe con todos los registros limpios y ordenados\n",
        "        else: #Si la petición no se ejecutó correctamente mandamos un mensaje con el error devuelto\n",
        "            return 'Error de petición: '+str(response.status_code)  \n",
        "    else: #Si los argumentos no son de tipo str regresamos un mensaje\n",
        "        return 'Por favor coloque un argumento válido en formato string.'"
      ],
      "execution_count": null,
      "outputs": []
    },
    {
      "cell_type": "markdown",
      "metadata": {
        "id": "o2Q7zAEZ2scb"
      },
      "source": [
        "Además, sea df_matches_clean() la función que elimnará campos indeseados:"
      ]
    },
    {
      "cell_type": "code",
      "metadata": {
        "id": "EhE2QUhg2uHL"
      },
      "source": [
        "def df_matches_clean(df_matches):\n",
        "  ########### Limpieza de datos\n",
        "   campos_no_deseados = ['videogame', 'slug', 'tournament', 'league', 'serie', 'streams', 'modified_at', 'games',\n",
        "                      'game_advantage', 'scheduled_at', 'original_scheduled_at', 'detailed_stats','live',\n",
        "                      'match_type', 'videogame_version', 'live_embed_url', 'id'] \n",
        "\n",
        "   df_matches_temp = df_matches.drop(columns=campos_no_deseados) #Limpiamos campos que no nos son de utilidad\n",
        "   df_matches_finished = df_matches_temp[ df_matches_temp['status'] == 'finished' ] #Dejamos solo los enfrentamientos que han terminado\n",
        "   df_matches_finished_clean = df_matches_finished.dropna(subset=['begin_at', 'end_at']) #Eliminamos algunos valores nulos de las fechas\n",
        "   df_matches_ordenado = df_matches_finished_clean[['name','opponents','results','forfeit','draw', #Reorganizamos los campos\n",
        "                                                      'number_of_games','winner','winner_id','begin_at','end_at', \n",
        "                                                      'rescheduled','official_stream_url','league_id', 'serie_id', 'tournament_id']]\n",
        "   df_matches_ordenado = df_matches_ordenado.reset_index(drop=True) #Reseteamos el índice\n",
        "   nombres_nuevos = {'name' : 'match_name',\n",
        "                             'begin_at' : 'begin_date',\n",
        "                             'end_at' : 'end_date',\n",
        "                             'official_stream_url' : 'official_stream_channel_url'}                       \n",
        "   df_matches_ordenado.rename(columns=nombres_nuevos, inplace=True) #Renombramos columnas \n",
        "   return df_matches_ordenado  "
      ],
      "execution_count": null,
      "outputs": []
    },
    {
      "cell_type": "markdown",
      "metadata": {
        "id": "PixYAKr321aZ"
      },
      "source": [
        "Junto a winner_team(),loser_team() y team_score() que añaden nuevos campos:"
      ]
    },
    {
      "cell_type": "code",
      "metadata": {
        "id": "tftiWy0W16r7"
      },
      "source": [
        "def winner_team(serie):\n",
        "    if serie == None:\n",
        "        return 'Undefined'\n",
        "    else: return serie['name']\n",
        "\n",
        "def loser_team(df):\n",
        "    losers = []\n",
        "    for i in range(0,len(df)):\n",
        "        ganador = df['winner_team'][i]\n",
        "        equipo = df['opponents'][i][0]['opponent']['name']\n",
        "        if ganador == 'Undefined':\n",
        "           losers.append('Undefined')\n",
        "        elif equipo == ganador:\n",
        "           losers.append(df['opponents'][i][1]['opponent']['name'])  \n",
        "        elif equipo != ganador: \n",
        "           losers.append(df['opponents'][i][0]['opponent']['name'] )\n",
        "    return pd.Series(losers,index=df.index)\n",
        "\n",
        "def team_scores(df):\n",
        "    losers_score = []\n",
        "    winners_score = []\n",
        "    for i in range(0,len(df)):\n",
        "        ganador_id = df['winner_id'][i]\n",
        "        equipo1_id = df['results'][i][0].get('team_id')\n",
        "        equipo2_id = df['results'][i][1].get('team_id')\n",
        "        if ganador_id == 0:\n",
        "            winner_score = 0\n",
        "            loser_score = 0\n",
        "        elif equipo1_id == ganador_id:\n",
        "            winner_score = df['results'][i][0].get('score')\n",
        "            loser_score = df['results'][i][1].get('score')\n",
        "        else:\n",
        "            winner_score = df['results'][i][1].get('score')\n",
        "            loser_score = df['results'][i][0].get('score')\n",
        "        winners_score.append(winner_score)    \n",
        "        losers_score.append(loser_score)\n",
        "    return [pd.Series(winners_score,index=df.index), pd.Series(losers_score,index=df.index) ]\n"
      ],
      "execution_count": null,
      "outputs": []
    },
    {
      "cell_type": "markdown",
      "metadata": {
        "id": "HFlXp7FC3Ene"
      },
      "source": [
        "Y finalmente sea matches_shiny() la función que embellecé nuestro dataframe y arregla los tipos de dato:"
      ]
    },
    {
      "cell_type": "code",
      "metadata": {
        "id": "oPURN2Mh3Kif"
      },
      "source": [
        "def matches_shiny(juego_matches):\n",
        "    juego_matches['winner_team'] = juego_matches['winner'].map(winner_team)\n",
        "    juego_matches['loser_team'] = loser_team(juego_matches)  \n",
        "    juego_matches['winner_id'] = juego_matches['winner_id'].fillna(0)\n",
        "    juego_matches['official_stream_channel_url'] = juego_matches['official_stream_channel_url'].fillna('Not Provided')\n",
        "    juego_matches['winner_id'] = juego_matches['winner_id'].astype(int)\n",
        "    [winner_score,loser_score] = team_scores(juego_matches)\n",
        "    juego_matches['winner_score'] = winner_score\n",
        "    juego_matches['loser_score'] = loser_score\n",
        "    campos_no_deseados = ['results','winner','opponents','winner_id']\n",
        "    juego_matches = juego_matches.drop(columns=campos_no_deseados)\n",
        "    juego_matches['begin_date'] = juego_matches['begin_date'].apply(datetime.strptime, args=('%Y-%m-%dT%H:%M:%SZ',))\n",
        "    juego_matches['end_date'] = juego_matches['end_date'].apply(datetime.strptime, args=('%Y-%m-%dT%H:%M:%SZ',))\n",
        "    ljuego_matches = juego_matches.sort_values('begin_date', ascending=True)\n",
        "    juego_matches = juego_matches.reset_index(drop=True)\n",
        "    return juego_matches"
      ],
      "execution_count": null,
      "outputs": []
    },
    {
      "cell_type": "markdown",
      "metadata": {
        "id": "Jtzvf6724Yne"
      },
      "source": [
        "Llamamos a las funciones para obtener nuestro Dataframe de forma automática:"
      ]
    },
    {
      "cell_type": "code",
      "metadata": {
        "id": "ZTxN8SHA4ivL"
      },
      "source": [
        "lol_matches_raw = PandaScore_get_matches('lol')\n",
        "lol_matches_sin_nones = df_matches_clean(lol_matches_raw)\n",
        "lol_matches = matches_shiny(lol_matches_sin_nones)"
      ],
      "execution_count": null,
      "outputs": []
    },
    {
      "cell_type": "markdown",
      "metadata": {
        "id": "He9N8Xgk5_kW"
      },
      "source": [
        "_lol matches_ se vuelve entonces uno de nuestros Dataframes destinado para el análisis de eSports:"
      ]
    },
    {
      "cell_type": "code",
      "metadata": {
        "colab": {
          "base_uri": "https://localhost:8080/",
          "height": 758
        },
        "id": "mi1FvaAt4-i-",
        "outputId": "bf754d08-d62e-475d-aeee-63dcd55267a1"
      },
      "source": [
        "lol_matches"
      ],
      "execution_count": null,
      "outputs": [
        {
          "output_type": "execute_result",
          "data": {
            "text/html": [
              "<div>\n",
              "<style scoped>\n",
              "    .dataframe tbody tr th:only-of-type {\n",
              "        vertical-align: middle;\n",
              "    }\n",
              "\n",
              "    .dataframe tbody tr th {\n",
              "        vertical-align: top;\n",
              "    }\n",
              "\n",
              "    .dataframe thead th {\n",
              "        text-align: right;\n",
              "    }\n",
              "</style>\n",
              "<table border=\"1\" class=\"dataframe\">\n",
              "  <thead>\n",
              "    <tr style=\"text-align: right;\">\n",
              "      <th></th>\n",
              "      <th>match_name</th>\n",
              "      <th>forfeit</th>\n",
              "      <th>draw</th>\n",
              "      <th>number_of_games</th>\n",
              "      <th>begin_date</th>\n",
              "      <th>end_date</th>\n",
              "      <th>rescheduled</th>\n",
              "      <th>official_stream_channel_url</th>\n",
              "      <th>league_id</th>\n",
              "      <th>serie_id</th>\n",
              "      <th>tournament_id</th>\n",
              "      <th>winner_team</th>\n",
              "      <th>loser_team</th>\n",
              "      <th>winner_score</th>\n",
              "      <th>loser_score</th>\n",
              "    </tr>\n",
              "  </thead>\n",
              "  <tbody>\n",
              "    <tr>\n",
              "      <th>0</th>\n",
              "      <td>KSG vs SNS</td>\n",
              "      <td>False</td>\n",
              "      <td>False</td>\n",
              "      <td>3</td>\n",
              "      <td>2021-06-21 11:04:24</td>\n",
              "      <td>2021-06-21 13:32:09</td>\n",
              "      <td>False</td>\n",
              "      <td>https://live.bilibili.com/32</td>\n",
              "      <td>4226</td>\n",
              "      <td>3698</td>\n",
              "      <td>6243</td>\n",
              "      <td>Kaisa Gaming</td>\n",
              "      <td>Suning-S</td>\n",
              "      <td>2</td>\n",
              "      <td>1</td>\n",
              "    </tr>\n",
              "    <tr>\n",
              "      <th>1</th>\n",
              "      <td>Ultra Prime Academy vs FPB</td>\n",
              "      <td>False</td>\n",
              "      <td>False</td>\n",
              "      <td>3</td>\n",
              "      <td>2021-06-21 11:47:42</td>\n",
              "      <td>2021-06-21 13:12:04</td>\n",
              "      <td>False</td>\n",
              "      <td>https://live.bilibili.com/31</td>\n",
              "      <td>4226</td>\n",
              "      <td>3698</td>\n",
              "      <td>6243</td>\n",
              "      <td>Ultra Prime Academy</td>\n",
              "      <td>FunPlus Phoenix Blaze</td>\n",
              "      <td>2</td>\n",
              "      <td>0</td>\n",
              "    </tr>\n",
              "    <tr>\n",
              "      <th>2</th>\n",
              "      <td>TT.Y vs MAX</td>\n",
              "      <td>False</td>\n",
              "      <td>False</td>\n",
              "      <td>3</td>\n",
              "      <td>2021-06-21 08:23:15</td>\n",
              "      <td>2021-06-21 10:26:39</td>\n",
              "      <td>False</td>\n",
              "      <td>https://live.bilibili.com/32</td>\n",
              "      <td>4226</td>\n",
              "      <td>3698</td>\n",
              "      <td>6243</td>\n",
              "      <td>MAX E-Sports Club</td>\n",
              "      <td>ThunderTalk Gaming Young</td>\n",
              "      <td>2</td>\n",
              "      <td>0</td>\n",
              "    </tr>\n",
              "    <tr>\n",
              "      <th>3</th>\n",
              "      <td>OMD vs EDGY</td>\n",
              "      <td>False</td>\n",
              "      <td>False</td>\n",
              "      <td>3</td>\n",
              "      <td>2021-06-21 08:38:43</td>\n",
              "      <td>2021-06-21 11:11:29</td>\n",
              "      <td>False</td>\n",
              "      <td>https://live.bilibili.com/31</td>\n",
              "      <td>4226</td>\n",
              "      <td>3698</td>\n",
              "      <td>6243</td>\n",
              "      <td>EDward Gaming Youth Team</td>\n",
              "      <td>Oh My Dream</td>\n",
              "      <td>2</td>\n",
              "      <td>1</td>\n",
              "    </tr>\n",
              "    <tr>\n",
              "      <th>4</th>\n",
              "      <td>WZ vs LNGA</td>\n",
              "      <td>False</td>\n",
              "      <td>False</td>\n",
              "      <td>3</td>\n",
              "      <td>2021-06-21 06:08:06</td>\n",
              "      <td>2021-06-21 07:47:40</td>\n",
              "      <td>False</td>\n",
              "      <td>https://live.bilibili.com/32</td>\n",
              "      <td>4226</td>\n",
              "      <td>3698</td>\n",
              "      <td>6243</td>\n",
              "      <td>WanZhen Esports Club</td>\n",
              "      <td>LNG Academy</td>\n",
              "      <td>2</td>\n",
              "      <td>0</td>\n",
              "    </tr>\n",
              "    <tr>\n",
              "      <th>...</th>\n",
              "      <td>...</td>\n",
              "      <td>...</td>\n",
              "      <td>...</td>\n",
              "      <td>...</td>\n",
              "      <td>...</td>\n",
              "      <td>...</td>\n",
              "      <td>...</td>\n",
              "      <td>...</td>\n",
              "      <td>...</td>\n",
              "      <td>...</td>\n",
              "      <td>...</td>\n",
              "      <td>...</td>\n",
              "      <td>...</td>\n",
              "      <td>...</td>\n",
              "      <td>...</td>\n",
              "    </tr>\n",
              "    <tr>\n",
              "      <th>19518</th>\n",
              "      <td>DIG vs C9</td>\n",
              "      <td>False</td>\n",
              "      <td>False</td>\n",
              "      <td>1</td>\n",
              "      <td>2015-05-31 20:09:51</td>\n",
              "      <td>2015-05-31 20:43:55</td>\n",
              "      <td>False</td>\n",
              "      <td>Not Provided</td>\n",
              "      <td>289</td>\n",
              "      <td>31</td>\n",
              "      <td>1</td>\n",
              "      <td>Dignitas</td>\n",
              "      <td>Cloud9</td>\n",
              "      <td>1</td>\n",
              "      <td>0</td>\n",
              "    </tr>\n",
              "    <tr>\n",
              "      <th>19519</th>\n",
              "      <td>T8 vs TL</td>\n",
              "      <td>False</td>\n",
              "      <td>False</td>\n",
              "      <td>1</td>\n",
              "      <td>2015-05-31 18:22:58</td>\n",
              "      <td>2015-05-31 19:04:18</td>\n",
              "      <td>False</td>\n",
              "      <td>Not Provided</td>\n",
              "      <td>289</td>\n",
              "      <td>31</td>\n",
              "      <td>1</td>\n",
              "      <td>Team Liquid</td>\n",
              "      <td>Team 8</td>\n",
              "      <td>1</td>\n",
              "      <td>0</td>\n",
              "    </tr>\n",
              "    <tr>\n",
              "      <th>19520</th>\n",
              "      <td>GV vs NME</td>\n",
              "      <td>False</td>\n",
              "      <td>False</td>\n",
              "      <td>1</td>\n",
              "      <td>2015-05-30 23:23:25</td>\n",
              "      <td>2015-05-31 00:06:10</td>\n",
              "      <td>False</td>\n",
              "      <td>Not Provided</td>\n",
              "      <td>289</td>\n",
              "      <td>31</td>\n",
              "      <td>1</td>\n",
              "      <td>Enemy</td>\n",
              "      <td>Gravity</td>\n",
              "      <td>1</td>\n",
              "      <td>0</td>\n",
              "    </tr>\n",
              "    <tr>\n",
              "      <th>19521</th>\n",
              "      <td>T8 vs TIP</td>\n",
              "      <td>False</td>\n",
              "      <td>False</td>\n",
              "      <td>1</td>\n",
              "      <td>2015-05-30 22:23:32</td>\n",
              "      <td>2015-05-30 22:56:32</td>\n",
              "      <td>False</td>\n",
              "      <td>Not Provided</td>\n",
              "      <td>289</td>\n",
              "      <td>31</td>\n",
              "      <td>1</td>\n",
              "      <td>Impulse</td>\n",
              "      <td>Team 8</td>\n",
              "      <td>1</td>\n",
              "      <td>0</td>\n",
              "    </tr>\n",
              "    <tr>\n",
              "      <th>19522</th>\n",
              "      <td>TL vs TDK</td>\n",
              "      <td>False</td>\n",
              "      <td>False</td>\n",
              "      <td>1</td>\n",
              "      <td>2015-05-30 20:11:29</td>\n",
              "      <td>2015-05-30 20:55:10</td>\n",
              "      <td>False</td>\n",
              "      <td>Not Provided</td>\n",
              "      <td>289</td>\n",
              "      <td>31</td>\n",
              "      <td>1</td>\n",
              "      <td>Team Liquid</td>\n",
              "      <td>Dragon Knights</td>\n",
              "      <td>1</td>\n",
              "      <td>0</td>\n",
              "    </tr>\n",
              "  </tbody>\n",
              "</table>\n",
              "<p>19523 rows × 15 columns</p>\n",
              "</div>"
            ],
            "text/plain": [
              "                       match_name  forfeit  ...  winner_score  loser_score\n",
              "0                      KSG vs SNS    False  ...             2            1\n",
              "1      Ultra Prime Academy vs FPB    False  ...             2            0\n",
              "2                     TT.Y vs MAX    False  ...             2            0\n",
              "3                     OMD vs EDGY    False  ...             2            1\n",
              "4                      WZ vs LNGA    False  ...             2            0\n",
              "...                           ...      ...  ...           ...          ...\n",
              "19518                   DIG vs C9    False  ...             1            0\n",
              "19519                    T8 vs TL    False  ...             1            0\n",
              "19520                   GV vs NME    False  ...             1            0\n",
              "19521                   T8 vs TIP    False  ...             1            0\n",
              "19522                   TL vs TDK    False  ...             1            0\n",
              "\n",
              "[19523 rows x 15 columns]"
            ]
          },
          "metadata": {
            "tags": []
          },
          "execution_count": 7
        }
      ]
    },
    {
      "cell_type": "markdown",
      "metadata": {
        "id": "zNBv4nZL6iMK"
      },
      "source": [
        "Gracias a nuestras funciones aportamos también otros Dataframe para los juegos de la API:"
      ]
    },
    {
      "cell_type": "code",
      "metadata": {
        "id": "eF3_D86W6hWE"
      },
      "source": [
        "dota2_matches_raw = PandaScore_get_matches('dota2')\n",
        "dota2_matches_sin_nones = df_matches_clean(dota2_matches_raw)\n",
        "dota2_matches = matches_shiny(dota2_matches_sin_nones)"
      ],
      "execution_count": null,
      "outputs": []
    },
    {
      "cell_type": "code",
      "metadata": {
        "colab": {
          "base_uri": "https://localhost:8080/",
          "height": 758
        },
        "id": "4zS8HQO-7rSW",
        "outputId": "31db00f5-9e48-4553-8eca-d12ca1f5a2a0"
      },
      "source": [
        "dota2_matches"
      ],
      "execution_count": null,
      "outputs": [
        {
          "output_type": "execute_result",
          "data": {
            "text/html": [
              "<div>\n",
              "<style scoped>\n",
              "    .dataframe tbody tr th:only-of-type {\n",
              "        vertical-align: middle;\n",
              "    }\n",
              "\n",
              "    .dataframe tbody tr th {\n",
              "        vertical-align: top;\n",
              "    }\n",
              "\n",
              "    .dataframe thead th {\n",
              "        text-align: right;\n",
              "    }\n",
              "</style>\n",
              "<table border=\"1\" class=\"dataframe\">\n",
              "  <thead>\n",
              "    <tr style=\"text-align: right;\">\n",
              "      <th></th>\n",
              "      <th>match_name</th>\n",
              "      <th>forfeit</th>\n",
              "      <th>draw</th>\n",
              "      <th>number_of_games</th>\n",
              "      <th>begin_date</th>\n",
              "      <th>end_date</th>\n",
              "      <th>rescheduled</th>\n",
              "      <th>official_stream_channel_url</th>\n",
              "      <th>league_id</th>\n",
              "      <th>serie_id</th>\n",
              "      <th>tournament_id</th>\n",
              "      <th>winner_team</th>\n",
              "      <th>loser_team</th>\n",
              "      <th>winner_score</th>\n",
              "      <th>loser_score</th>\n",
              "    </tr>\n",
              "  </thead>\n",
              "  <tbody>\n",
              "    <tr>\n",
              "      <th>0</th>\n",
              "      <td>Xtreme vs iG.V</td>\n",
              "      <td>False</td>\n",
              "      <td>False</td>\n",
              "      <td>3</td>\n",
              "      <td>2021-06-22 10:06:10</td>\n",
              "      <td>2021-06-22 11:42:52</td>\n",
              "      <td>False</td>\n",
              "      <td>https://www.twitch.tv/moonstudio_ru</td>\n",
              "      <td>4535</td>\n",
              "      <td>3710</td>\n",
              "      <td>6260</td>\n",
              "      <td>iG.Vitality</td>\n",
              "      <td>Xtreme Gaming</td>\n",
              "      <td>2</td>\n",
              "      <td>0</td>\n",
              "    </tr>\n",
              "    <tr>\n",
              "      <th>1</th>\n",
              "      <td>Motivate.Viper Gaming vs Lilgun</td>\n",
              "      <td>False</td>\n",
              "      <td>False</td>\n",
              "      <td>3</td>\n",
              "      <td>2021-06-22 07:06:31</td>\n",
              "      <td>2021-06-22 09:14:10</td>\n",
              "      <td>False</td>\n",
              "      <td>https://www.twitch.tv/moonstudio_ru</td>\n",
              "      <td>4535</td>\n",
              "      <td>3710</td>\n",
              "      <td>6260</td>\n",
              "      <td>Lilgun</td>\n",
              "      <td>Motivate.Viper Gaming</td>\n",
              "      <td>2</td>\n",
              "      <td>0</td>\n",
              "    </tr>\n",
              "    <tr>\n",
              "      <th>2</th>\n",
              "      <td>Crocodile vs Veteran</td>\n",
              "      <td>False</td>\n",
              "      <td>False</td>\n",
              "      <td>3</td>\n",
              "      <td>2021-06-21 12:42:22</td>\n",
              "      <td>2021-06-21 15:52:21</td>\n",
              "      <td>False</td>\n",
              "      <td>https://www.twitch.tv/moonstudio_ru</td>\n",
              "      <td>4535</td>\n",
              "      <td>3710</td>\n",
              "      <td>6260</td>\n",
              "      <td>Veteran</td>\n",
              "      <td>Crocodile</td>\n",
              "      <td>2</td>\n",
              "      <td>1</td>\n",
              "    </tr>\n",
              "    <tr>\n",
              "      <th>3</th>\n",
              "      <td>Moon Chasers vs Lilgun</td>\n",
              "      <td>False</td>\n",
              "      <td>False</td>\n",
              "      <td>3</td>\n",
              "      <td>2021-06-21 10:35:30</td>\n",
              "      <td>2021-06-21 12:23:37</td>\n",
              "      <td>False</td>\n",
              "      <td>https://www.twitch.tv/moonstudio_ru</td>\n",
              "      <td>4535</td>\n",
              "      <td>3710</td>\n",
              "      <td>6260</td>\n",
              "      <td>Moon Chasers</td>\n",
              "      <td>Lilgun</td>\n",
              "      <td>2</td>\n",
              "      <td>0</td>\n",
              "    </tr>\n",
              "    <tr>\n",
              "      <th>4</th>\n",
              "      <td>Crocodile vs iG.V</td>\n",
              "      <td>False</td>\n",
              "      <td>False</td>\n",
              "      <td>3</td>\n",
              "      <td>2021-06-21 07:30:00</td>\n",
              "      <td>2021-06-21 09:06:00</td>\n",
              "      <td>False</td>\n",
              "      <td>https://www.twitch.tv/moonstudio_ru</td>\n",
              "      <td>4535</td>\n",
              "      <td>3710</td>\n",
              "      <td>6260</td>\n",
              "      <td>iG.Vitality</td>\n",
              "      <td>Crocodile</td>\n",
              "      <td>2</td>\n",
              "      <td>1</td>\n",
              "    </tr>\n",
              "    <tr>\n",
              "      <th>...</th>\n",
              "      <td>...</td>\n",
              "      <td>...</td>\n",
              "      <td>...</td>\n",
              "      <td>...</td>\n",
              "      <td>...</td>\n",
              "      <td>...</td>\n",
              "      <td>...</td>\n",
              "      <td>...</td>\n",
              "      <td>...</td>\n",
              "      <td>...</td>\n",
              "      <td>...</td>\n",
              "      <td>...</td>\n",
              "      <td>...</td>\n",
              "      <td>...</td>\n",
              "      <td>...</td>\n",
              "    </tr>\n",
              "    <tr>\n",
              "      <th>16460</th>\n",
              "      <td>Lower Round 3</td>\n",
              "      <td>False</td>\n",
              "      <td>False</td>\n",
              "      <td>3</td>\n",
              "      <td>2017-08-10 17:27:49</td>\n",
              "      <td>2017-08-10 18:58:23</td>\n",
              "      <td>False</td>\n",
              "      <td>Not Provided</td>\n",
              "      <td>4106</td>\n",
              "      <td>1380</td>\n",
              "      <td>919</td>\n",
              "      <td>Team Liquid</td>\n",
              "      <td>Team Empire</td>\n",
              "      <td>2</td>\n",
              "      <td>0</td>\n",
              "    </tr>\n",
              "    <tr>\n",
              "      <th>16461</th>\n",
              "      <td>Lower Round 4</td>\n",
              "      <td>False</td>\n",
              "      <td>False</td>\n",
              "      <td>3</td>\n",
              "      <td>2017-08-10 22:32:37</td>\n",
              "      <td>2017-08-11 02:30:40</td>\n",
              "      <td>False</td>\n",
              "      <td>Not Provided</td>\n",
              "      <td>4106</td>\n",
              "      <td>1380</td>\n",
              "      <td>919</td>\n",
              "      <td>Team Liquid</td>\n",
              "      <td>Virtus.pro</td>\n",
              "      <td>2</td>\n",
              "      <td>1</td>\n",
              "    </tr>\n",
              "    <tr>\n",
              "      <th>16462</th>\n",
              "      <td>Liquid vs iG.V</td>\n",
              "      <td>False</td>\n",
              "      <td>False</td>\n",
              "      <td>3</td>\n",
              "      <td>2017-08-02 16:06:08</td>\n",
              "      <td>2017-08-02 18:11:05</td>\n",
              "      <td>False</td>\n",
              "      <td>Not Provided</td>\n",
              "      <td>4106</td>\n",
              "      <td>1380</td>\n",
              "      <td>920</td>\n",
              "      <td>Team Liquid</td>\n",
              "      <td>iG.Vitality</td>\n",
              "      <td>2</td>\n",
              "      <td>0</td>\n",
              "    </tr>\n",
              "    <tr>\n",
              "      <th>16463</th>\n",
              "      <td>Empire vs iG.V</td>\n",
              "      <td>False</td>\n",
              "      <td>True</td>\n",
              "      <td>2</td>\n",
              "      <td>2017-08-04 20:22:44</td>\n",
              "      <td>2017-08-04 23:39:05</td>\n",
              "      <td>False</td>\n",
              "      <td>Not Provided</td>\n",
              "      <td>4106</td>\n",
              "      <td>1380</td>\n",
              "      <td>920</td>\n",
              "      <td>Undefined</td>\n",
              "      <td>Undefined</td>\n",
              "      <td>0</td>\n",
              "      <td>0</td>\n",
              "    </tr>\n",
              "    <tr>\n",
              "      <th>16464</th>\n",
              "      <td>Lower Final</td>\n",
              "      <td>False</td>\n",
              "      <td>False</td>\n",
              "      <td>3</td>\n",
              "      <td>2017-08-12 17:33:56</td>\n",
              "      <td>2017-08-12 20:42:17</td>\n",
              "      <td>False</td>\n",
              "      <td>Not Provided</td>\n",
              "      <td>4106</td>\n",
              "      <td>1380</td>\n",
              "      <td>919</td>\n",
              "      <td>Team Liquid</td>\n",
              "      <td>LGD.Forever Young</td>\n",
              "      <td>2</td>\n",
              "      <td>1</td>\n",
              "    </tr>\n",
              "  </tbody>\n",
              "</table>\n",
              "<p>16465 rows × 15 columns</p>\n",
              "</div>"
            ],
            "text/plain": [
              "                            match_name  forfeit  ...  winner_score  loser_score\n",
              "0                       Xtreme vs iG.V    False  ...             2            0\n",
              "1      Motivate.Viper Gaming vs Lilgun    False  ...             2            0\n",
              "2                 Crocodile vs Veteran    False  ...             2            1\n",
              "3               Moon Chasers vs Lilgun    False  ...             2            0\n",
              "4                    Crocodile vs iG.V    False  ...             2            1\n",
              "...                                ...      ...  ...           ...          ...\n",
              "16460                    Lower Round 3    False  ...             2            0\n",
              "16461                    Lower Round 4    False  ...             2            1\n",
              "16462                   Liquid vs iG.V    False  ...             2            0\n",
              "16463                   Empire vs iG.V    False  ...             0            0\n",
              "16464                      Lower Final    False  ...             2            1\n",
              "\n",
              "[16465 rows x 15 columns]"
            ]
          },
          "metadata": {
            "tags": []
          },
          "execution_count": 9
        }
      ]
    },
    {
      "cell_type": "code",
      "metadata": {
        "id": "zG_jL74z60Z2"
      },
      "source": [
        "csgo_matches_raw = PandaScore_get_matches('csgo')\n",
        "csgo_matches_sin_nones = df_matches_clean(csgo_matches_raw)\n",
        "csgo_matches = matches_shiny(csgo_matches_sin_nones)"
      ],
      "execution_count": null,
      "outputs": []
    },
    {
      "cell_type": "code",
      "metadata": {
        "colab": {
          "base_uri": "https://localhost:8080/",
          "height": 791
        },
        "id": "OEI7jQBU8pGw",
        "outputId": "2784161d-0e39-4ffa-f85f-2588f0a5bf9c"
      },
      "source": [
        "csgo_matches"
      ],
      "execution_count": null,
      "outputs": [
        {
          "output_type": "execute_result",
          "data": {
            "text/html": [
              "<div>\n",
              "<style scoped>\n",
              "    .dataframe tbody tr th:only-of-type {\n",
              "        vertical-align: middle;\n",
              "    }\n",
              "\n",
              "    .dataframe tbody tr th {\n",
              "        vertical-align: top;\n",
              "    }\n",
              "\n",
              "    .dataframe thead th {\n",
              "        text-align: right;\n",
              "    }\n",
              "</style>\n",
              "<table border=\"1\" class=\"dataframe\">\n",
              "  <thead>\n",
              "    <tr style=\"text-align: right;\">\n",
              "      <th></th>\n",
              "      <th>match_name</th>\n",
              "      <th>forfeit</th>\n",
              "      <th>draw</th>\n",
              "      <th>number_of_games</th>\n",
              "      <th>begin_date</th>\n",
              "      <th>end_date</th>\n",
              "      <th>rescheduled</th>\n",
              "      <th>official_stream_channel_url</th>\n",
              "      <th>league_id</th>\n",
              "      <th>serie_id</th>\n",
              "      <th>tournament_id</th>\n",
              "      <th>winner_team</th>\n",
              "      <th>loser_team</th>\n",
              "      <th>winner_score</th>\n",
              "      <th>loser_score</th>\n",
              "    </tr>\n",
              "  </thead>\n",
              "  <tbody>\n",
              "    <tr>\n",
              "      <th>0</th>\n",
              "      <td>Opening Match 2: ENCE vs mousesports</td>\n",
              "      <td>False</td>\n",
              "      <td>False</td>\n",
              "      <td>3</td>\n",
              "      <td>2021-06-22 15:38:41</td>\n",
              "      <td>2021-06-22 17:43:38</td>\n",
              "      <td>True</td>\n",
              "      <td>https://www.twitch.tv/gwbps_en</td>\n",
              "      <td>4399</td>\n",
              "      <td>3712</td>\n",
              "      <td>6261</td>\n",
              "      <td>ENCE</td>\n",
              "      <td>mousesports</td>\n",
              "      <td>2</td>\n",
              "      <td>0</td>\n",
              "    </tr>\n",
              "    <tr>\n",
              "      <th>1</th>\n",
              "      <td>Opening Match 1: NIP vs MIBR</td>\n",
              "      <td>False</td>\n",
              "      <td>False</td>\n",
              "      <td>3</td>\n",
              "      <td>2021-06-22 11:56:58</td>\n",
              "      <td>2021-06-22 15:17:07</td>\n",
              "      <td>True</td>\n",
              "      <td>https://www.twitch.tv/gwbps_en</td>\n",
              "      <td>4399</td>\n",
              "      <td>3712</td>\n",
              "      <td>6261</td>\n",
              "      <td>NIP</td>\n",
              "      <td>MIBR</td>\n",
              "      <td>2</td>\n",
              "      <td>1</td>\n",
              "    </tr>\n",
              "    <tr>\n",
              "      <th>2</th>\n",
              "      <td>SJ vs los kogutos</td>\n",
              "      <td>False</td>\n",
              "      <td>False</td>\n",
              "      <td>1</td>\n",
              "      <td>2021-06-22 18:20:26</td>\n",
              "      <td>2021-06-22 18:51:00</td>\n",
              "      <td>False</td>\n",
              "      <td>Not Provided</td>\n",
              "      <td>4243</td>\n",
              "      <td>3591</td>\n",
              "      <td>5998</td>\n",
              "      <td>SJ</td>\n",
              "      <td>los kogutos</td>\n",
              "      <td>1</td>\n",
              "      <td>0</td>\n",
              "    </tr>\n",
              "    <tr>\n",
              "      <th>3</th>\n",
              "      <td>Chetz vs Finest</td>\n",
              "      <td>False</td>\n",
              "      <td>False</td>\n",
              "      <td>1</td>\n",
              "      <td>2021-06-22 18:12:51</td>\n",
              "      <td>2021-06-22 18:54:39</td>\n",
              "      <td>False</td>\n",
              "      <td>Not Provided</td>\n",
              "      <td>4243</td>\n",
              "      <td>3591</td>\n",
              "      <td>5998</td>\n",
              "      <td>Chetz</td>\n",
              "      <td>Finest</td>\n",
              "      <td>1</td>\n",
              "      <td>0</td>\n",
              "    </tr>\n",
              "    <tr>\n",
              "      <th>4</th>\n",
              "      <td>Ambush vs Lilmix</td>\n",
              "      <td>False</td>\n",
              "      <td>False</td>\n",
              "      <td>1</td>\n",
              "      <td>2021-06-22 18:06:22</td>\n",
              "      <td>2021-06-22 18:55:12</td>\n",
              "      <td>False</td>\n",
              "      <td>Not Provided</td>\n",
              "      <td>4243</td>\n",
              "      <td>3591</td>\n",
              "      <td>5998</td>\n",
              "      <td>Ambush</td>\n",
              "      <td>Lilmix</td>\n",
              "      <td>1</td>\n",
              "      <td>0</td>\n",
              "    </tr>\n",
              "    <tr>\n",
              "      <th>...</th>\n",
              "      <td>...</td>\n",
              "      <td>...</td>\n",
              "      <td>...</td>\n",
              "      <td>...</td>\n",
              "      <td>...</td>\n",
              "      <td>...</td>\n",
              "      <td>...</td>\n",
              "      <td>...</td>\n",
              "      <td>...</td>\n",
              "      <td>...</td>\n",
              "      <td>...</td>\n",
              "      <td>...</td>\n",
              "      <td>...</td>\n",
              "      <td>...</td>\n",
              "      <td>...</td>\n",
              "    </tr>\n",
              "    <tr>\n",
              "      <th>18875</th>\n",
              "      <td>Astralis vs North</td>\n",
              "      <td>False</td>\n",
              "      <td>False</td>\n",
              "      <td>3</td>\n",
              "      <td>2017-10-26 11:45:00</td>\n",
              "      <td>2017-10-26 14:12:00</td>\n",
              "      <td>False</td>\n",
              "      <td>Not Provided</td>\n",
              "      <td>4156</td>\n",
              "      <td>1562</td>\n",
              "      <td>1698</td>\n",
              "      <td>Astralis</td>\n",
              "      <td>North</td>\n",
              "      <td>2</td>\n",
              "      <td>0</td>\n",
              "    </tr>\n",
              "    <tr>\n",
              "      <th>18876</th>\n",
              "      <td>Semifinals 1: SK vs Astralis</td>\n",
              "      <td>False</td>\n",
              "      <td>False</td>\n",
              "      <td>3</td>\n",
              "      <td>2017-10-28 09:50:00</td>\n",
              "      <td>2017-10-28 12:41:00</td>\n",
              "      <td>False</td>\n",
              "      <td>Not Provided</td>\n",
              "      <td>4156</td>\n",
              "      <td>1562</td>\n",
              "      <td>1518</td>\n",
              "      <td>SK</td>\n",
              "      <td>Astralis</td>\n",
              "      <td>2</td>\n",
              "      <td>0</td>\n",
              "    </tr>\n",
              "    <tr>\n",
              "      <th>18877</th>\n",
              "      <td>Semifinals 2: G2 vs Virtus.pro</td>\n",
              "      <td>False</td>\n",
              "      <td>False</td>\n",
              "      <td>3</td>\n",
              "      <td>2017-10-28 13:50:00</td>\n",
              "      <td>2017-10-28 16:25:00</td>\n",
              "      <td>False</td>\n",
              "      <td>Not Provided</td>\n",
              "      <td>4156</td>\n",
              "      <td>1562</td>\n",
              "      <td>1518</td>\n",
              "      <td>Virtus.pro</td>\n",
              "      <td>G2</td>\n",
              "      <td>2</td>\n",
              "      <td>1</td>\n",
              "    </tr>\n",
              "    <tr>\n",
              "      <th>18878</th>\n",
              "      <td>3rd Place Match: Astralis vs G2</td>\n",
              "      <td>False</td>\n",
              "      <td>False</td>\n",
              "      <td>3</td>\n",
              "      <td>2017-10-29 09:30:00</td>\n",
              "      <td>2017-10-29 12:15:00</td>\n",
              "      <td>False</td>\n",
              "      <td>Not Provided</td>\n",
              "      <td>4156</td>\n",
              "      <td>1562</td>\n",
              "      <td>1518</td>\n",
              "      <td>G2</td>\n",
              "      <td>Astralis</td>\n",
              "      <td>2</td>\n",
              "      <td>1</td>\n",
              "    </tr>\n",
              "    <tr>\n",
              "      <th>18879</th>\n",
              "      <td>Grand Final: SK vs Virtus.pro</td>\n",
              "      <td>False</td>\n",
              "      <td>False</td>\n",
              "      <td>5</td>\n",
              "      <td>2017-10-29 13:55:00</td>\n",
              "      <td>2017-10-29 18:22:00</td>\n",
              "      <td>False</td>\n",
              "      <td>Not Provided</td>\n",
              "      <td>4156</td>\n",
              "      <td>1562</td>\n",
              "      <td>1518</td>\n",
              "      <td>SK</td>\n",
              "      <td>Virtus.pro</td>\n",
              "      <td>3</td>\n",
              "      <td>2</td>\n",
              "    </tr>\n",
              "  </tbody>\n",
              "</table>\n",
              "<p>18880 rows × 15 columns</p>\n",
              "</div>"
            ],
            "text/plain": [
              "                                 match_name  forfeit  ...  winner_score  loser_score\n",
              "0      Opening Match 2: ENCE vs mousesports    False  ...             2            0\n",
              "1              Opening Match 1: NIP vs MIBR    False  ...             2            1\n",
              "2                         SJ vs los kogutos    False  ...             1            0\n",
              "3                           Chetz vs Finest    False  ...             1            0\n",
              "4                          Ambush vs Lilmix    False  ...             1            0\n",
              "...                                     ...      ...  ...           ...          ...\n",
              "18875                     Astralis vs North    False  ...             2            0\n",
              "18876          Semifinals 1: SK vs Astralis    False  ...             2            0\n",
              "18877        Semifinals 2: G2 vs Virtus.pro    False  ...             2            1\n",
              "18878       3rd Place Match: Astralis vs G2    False  ...             2            1\n",
              "18879         Grand Final: SK vs Virtus.pro    False  ...             3            2\n",
              "\n",
              "[18880 rows x 15 columns]"
            ]
          },
          "metadata": {
            "tags": []
          },
          "execution_count": 11
        }
      ]
    },
    {
      "cell_type": "code",
      "metadata": {
        "id": "yuL0LlCF60Hm"
      },
      "source": [
        "ow_matches_raw = PandaScore_get_matches('ow')\n",
        "ow_matches_sin_nones = df_matches_clean(ow_matches_raw)\n",
        "ow_matches = matches_shiny(ow_matches_sin_nones)"
      ],
      "execution_count": null,
      "outputs": []
    },
    {
      "cell_type": "code",
      "metadata": {
        "colab": {
          "base_uri": "https://localhost:8080/",
          "height": 758
        },
        "id": "GLWTN-0w9poQ",
        "outputId": "693018b5-7f8b-4c6f-fada-27a6b413722c"
      },
      "source": [
        "ow_matches"
      ],
      "execution_count": null,
      "outputs": [
        {
          "output_type": "execute_result",
          "data": {
            "text/html": [
              "<div>\n",
              "<style scoped>\n",
              "    .dataframe tbody tr th:only-of-type {\n",
              "        vertical-align: middle;\n",
              "    }\n",
              "\n",
              "    .dataframe tbody tr th {\n",
              "        vertical-align: top;\n",
              "    }\n",
              "\n",
              "    .dataframe thead th {\n",
              "        text-align: right;\n",
              "    }\n",
              "</style>\n",
              "<table border=\"1\" class=\"dataframe\">\n",
              "  <thead>\n",
              "    <tr style=\"text-align: right;\">\n",
              "      <th></th>\n",
              "      <th>match_name</th>\n",
              "      <th>forfeit</th>\n",
              "      <th>draw</th>\n",
              "      <th>number_of_games</th>\n",
              "      <th>begin_date</th>\n",
              "      <th>end_date</th>\n",
              "      <th>rescheduled</th>\n",
              "      <th>official_stream_channel_url</th>\n",
              "      <th>league_id</th>\n",
              "      <th>serie_id</th>\n",
              "      <th>tournament_id</th>\n",
              "      <th>winner_team</th>\n",
              "      <th>loser_team</th>\n",
              "      <th>winner_score</th>\n",
              "      <th>loser_score</th>\n",
              "    </tr>\n",
              "  </thead>\n",
              "  <tbody>\n",
              "    <tr>\n",
              "      <th>0</th>\n",
              "      <td>CDH vs HZS</td>\n",
              "      <td>False</td>\n",
              "      <td>False</td>\n",
              "      <td>3</td>\n",
              "      <td>2021-06-05 12:05:39</td>\n",
              "      <td>2021-06-05 13:41:02</td>\n",
              "      <td>False</td>\n",
              "      <td>https://www.youtube.com/overwatchleague/live</td>\n",
              "      <td>4135</td>\n",
              "      <td>3378</td>\n",
              "      <td>5541</td>\n",
              "      <td>Hangzhou Spark</td>\n",
              "      <td>Chengdu Hunters</td>\n",
              "      <td>3</td>\n",
              "      <td>1</td>\n",
              "    </tr>\n",
              "    <tr>\n",
              "      <th>1</th>\n",
              "      <td>GZC vs SEO</td>\n",
              "      <td>False</td>\n",
              "      <td>False</td>\n",
              "      <td>3</td>\n",
              "      <td>2021-06-05 10:37:32</td>\n",
              "      <td>2021-06-05 11:32:41</td>\n",
              "      <td>False</td>\n",
              "      <td>https://www.youtube.com/overwatchleague/live</td>\n",
              "      <td>4135</td>\n",
              "      <td>3378</td>\n",
              "      <td>5541</td>\n",
              "      <td>Seoul Dynasty</td>\n",
              "      <td>Guangzhou Charge</td>\n",
              "      <td>3</td>\n",
              "      <td>0</td>\n",
              "    </tr>\n",
              "    <tr>\n",
              "      <th>2</th>\n",
              "      <td>VAL vs PHI</td>\n",
              "      <td>False</td>\n",
              "      <td>False</td>\n",
              "      <td>3</td>\n",
              "      <td>2021-06-05 09:10:34</td>\n",
              "      <td>2021-06-05 10:15:53</td>\n",
              "      <td>False</td>\n",
              "      <td>https://www.youtube.com/watch?v=hG2iKTKB_Kg</td>\n",
              "      <td>4135</td>\n",
              "      <td>3378</td>\n",
              "      <td>5541</td>\n",
              "      <td>Philadelphia Fusion</td>\n",
              "      <td>Los Angeles Valiant</td>\n",
              "      <td>3</td>\n",
              "      <td>1</td>\n",
              "    </tr>\n",
              "    <tr>\n",
              "      <th>3</th>\n",
              "      <td>VAL vs HZS</td>\n",
              "      <td>False</td>\n",
              "      <td>False</td>\n",
              "      <td>3</td>\n",
              "      <td>2021-06-04 13:29:25</td>\n",
              "      <td>2021-06-04 14:16:34</td>\n",
              "      <td>False</td>\n",
              "      <td>https://www.youtube.com/overwatchleague/live</td>\n",
              "      <td>4135</td>\n",
              "      <td>3378</td>\n",
              "      <td>5541</td>\n",
              "      <td>Hangzhou Spark</td>\n",
              "      <td>Los Angeles Valiant</td>\n",
              "      <td>3</td>\n",
              "      <td>0</td>\n",
              "    </tr>\n",
              "    <tr>\n",
              "      <th>4</th>\n",
              "      <td>CDH vs SEO</td>\n",
              "      <td>False</td>\n",
              "      <td>False</td>\n",
              "      <td>3</td>\n",
              "      <td>2021-06-04 11:15:32</td>\n",
              "      <td>2021-06-04 13:00:27</td>\n",
              "      <td>False</td>\n",
              "      <td>https://www.youtube.com/overwatchleague/live</td>\n",
              "      <td>4135</td>\n",
              "      <td>3378</td>\n",
              "      <td>5541</td>\n",
              "      <td>Seoul Dynasty</td>\n",
              "      <td>Chengdu Hunters</td>\n",
              "      <td>3</td>\n",
              "      <td>2</td>\n",
              "    </tr>\n",
              "    <tr>\n",
              "      <th>...</th>\n",
              "      <td>...</td>\n",
              "      <td>...</td>\n",
              "      <td>...</td>\n",
              "      <td>...</td>\n",
              "      <td>...</td>\n",
              "      <td>...</td>\n",
              "      <td>...</td>\n",
              "      <td>...</td>\n",
              "      <td>...</td>\n",
              "      <td>...</td>\n",
              "      <td>...</td>\n",
              "      <td>...</td>\n",
              "      <td>...</td>\n",
              "      <td>...</td>\n",
              "      <td>...</td>\n",
              "    </tr>\n",
              "    <tr>\n",
              "      <th>1663</th>\n",
              "      <td>DAL vs HOU</td>\n",
              "      <td>False</td>\n",
              "      <td>False</td>\n",
              "      <td>5</td>\n",
              "      <td>2017-12-08 01:00:00</td>\n",
              "      <td>2017-12-08 03:25:00</td>\n",
              "      <td>False</td>\n",
              "      <td>Not Provided</td>\n",
              "      <td>4135</td>\n",
              "      <td>1500</td>\n",
              "      <td>658</td>\n",
              "      <td>Dallas Fuel</td>\n",
              "      <td>Houston Outlaws</td>\n",
              "      <td>3</td>\n",
              "      <td>2</td>\n",
              "    </tr>\n",
              "    <tr>\n",
              "      <th>1664</th>\n",
              "      <td>GLA vs LDN</td>\n",
              "      <td>False</td>\n",
              "      <td>False</td>\n",
              "      <td>5</td>\n",
              "      <td>2017-12-07 22:00:00</td>\n",
              "      <td>2017-12-08 00:45:00</td>\n",
              "      <td>False</td>\n",
              "      <td>Not Provided</td>\n",
              "      <td>4135</td>\n",
              "      <td>1500</td>\n",
              "      <td>658</td>\n",
              "      <td>Los Angeles Gladiators</td>\n",
              "      <td>London Spitfire</td>\n",
              "      <td>3</td>\n",
              "      <td>2</td>\n",
              "    </tr>\n",
              "    <tr>\n",
              "      <th>1665</th>\n",
              "      <td>SEO vs SHD</td>\n",
              "      <td>False</td>\n",
              "      <td>False</td>\n",
              "      <td>5</td>\n",
              "      <td>2017-12-07 04:30:00</td>\n",
              "      <td>2017-12-07 06:30:00</td>\n",
              "      <td>False</td>\n",
              "      <td>Not Provided</td>\n",
              "      <td>4135</td>\n",
              "      <td>1500</td>\n",
              "      <td>658</td>\n",
              "      <td>Seoul Dynasty</td>\n",
              "      <td>Shanghai Dragons</td>\n",
              "      <td>4</td>\n",
              "      <td>0</td>\n",
              "    </tr>\n",
              "    <tr>\n",
              "      <th>1666</th>\n",
              "      <td>VAL vs SFS</td>\n",
              "      <td>False</td>\n",
              "      <td>False</td>\n",
              "      <td>5</td>\n",
              "      <td>2017-12-07 02:00:00</td>\n",
              "      <td>2017-12-07 04:25:00</td>\n",
              "      <td>False</td>\n",
              "      <td>Not Provided</td>\n",
              "      <td>4135</td>\n",
              "      <td>1500</td>\n",
              "      <td>658</td>\n",
              "      <td>Los Angeles Valiant</td>\n",
              "      <td>San Francisco Shock</td>\n",
              "      <td>3</td>\n",
              "      <td>2</td>\n",
              "    </tr>\n",
              "    <tr>\n",
              "      <th>1667</th>\n",
              "      <td>FLA vs SFS</td>\n",
              "      <td>False</td>\n",
              "      <td>False</td>\n",
              "      <td>5</td>\n",
              "      <td>2017-12-07 00:00:00</td>\n",
              "      <td>2017-12-07 02:00:00</td>\n",
              "      <td>False</td>\n",
              "      <td>Not Provided</td>\n",
              "      <td>4135</td>\n",
              "      <td>1500</td>\n",
              "      <td>658</td>\n",
              "      <td>San Francisco Shock</td>\n",
              "      <td>Florida Mayhem</td>\n",
              "      <td>3</td>\n",
              "      <td>1</td>\n",
              "    </tr>\n",
              "  </tbody>\n",
              "</table>\n",
              "<p>1668 rows × 15 columns</p>\n",
              "</div>"
            ],
            "text/plain": [
              "      match_name  forfeit  ...  winner_score  loser_score\n",
              "0     CDH vs HZS    False  ...             3            1\n",
              "1     GZC vs SEO    False  ...             3            0\n",
              "2     VAL vs PHI    False  ...             3            1\n",
              "3     VAL vs HZS    False  ...             3            0\n",
              "4     CDH vs SEO    False  ...             3            2\n",
              "...          ...      ...  ...           ...          ...\n",
              "1663  DAL vs HOU    False  ...             3            2\n",
              "1664  GLA vs LDN    False  ...             3            2\n",
              "1665  SEO vs SHD    False  ...             4            0\n",
              "1666  VAL vs SFS    False  ...             3            2\n",
              "1667  FLA vs SFS    False  ...             3            1\n",
              "\n",
              "[1668 rows x 15 columns]"
            ]
          },
          "metadata": {
            "tags": []
          },
          "execution_count": 13
        }
      ]
    },
    {
      "cell_type": "markdown",
      "metadata": {
        "id": "6i52CUH07bBo"
      },
      "source": [
        "Podemos utilizar nuestro Dataframe para obtener datos interesantes que responden algunas preguntas que nos hicimos al comienzo. En un principio nos preguntabamos si los enfrentamientos de eSports son cortos o largos, aprovechemos el paquete _datetime_ y descubrámoslo:"
      ]
    },
    {
      "cell_type": "code",
      "metadata": {
        "id": "zPhJbrP9CNsI"
      },
      "source": [
        "def tiempo_partida(df):\n",
        "    minutos_partidas=[] #iniciamos un arreglo vacío\n",
        "    for n in range (0,len(df)):   \n",
        "        inicio_enfrentamiento= df.loc[n,'begin_date'] #obtenemos el momento en que inici´p el enfrentamiento\n",
        "        fin_enfrentamiento= df.loc[n,'end_date'] #obtenemos el momento en que terminó el enfrentamiento\n",
        "        total_partidas = df.loc[n,'number_of_games'] #obtenemos el número de partidas jugadas en el enfrentamiento\n",
        "        duración_partidas = (fin_enfrentamiento-inicio_enfrentamiento)/total_partidas #Calculamos el tiempo por partida\n",
        "        minutos = round(duración_partidas.total_seconds()/60,3) # Convertimos a segundos y de segundos a minutos\n",
        "        minutos_partidas.append(minutos) #Añadimos al arreglo\n",
        "  \n",
        "    df['minutos_partidas'] = pd.Series(minutos_partidas) #Finalmente creamos una nueva columna con los tiempos por partida\n",
        "    no_outlier = df['minutos_partidas'] > 0 # La API devovió algunos datos de fechas con errores donde end_date era antes de begin_date\n",
        "    df= df[no_outlier]\n",
        "    no_outlier = df['minutos_partidas'] < 100 # Sabemos por experiencia que las partidas no duran tanto, así que eliminamos outliers\n",
        "    df_boxplot = df[no_outlier]   \n",
        "          \n",
        "    return df_boxplot #devolvemos un dataframe filtrado con la duración de partidas en minutos"
      ],
      "execution_count": null,
      "outputs": []
    },
    {
      "cell_type": "markdown",
      "metadata": {
        "id": "P3TJ8sNZD7S-"
      },
      "source": [
        "La función anterior esta pensada para obtener la duración en minutos de las partidas, se nos devuelve el dataframe que usamos como argumento con nuevo campo y filtrado para partidas con tiempo mayor a 0 (tiempo positivo) y menor a 100 minutos (como jugones curtidos sabemos que 100 minutos es una partida exagerada por si sola). Veamos como se comportan los diferentes juegos con un gráfico llamativo que podemos generar gracias al paquete seaborn:"
      ]
    },
    {
      "cell_type": "code",
      "metadata": {
        "id": "h3rSiGgYLu0f"
      },
      "source": [
        "def IQR_df(campo,df_clean):\n",
        "    iqr = df_clean[campo].quantile(0.75) - df_clean[campo].quantile(0.25)\n",
        "    quantil25= df_clean[campo].quantile(0.25) - (iqr * 1.5)\n",
        "    quantil75= df_clean[campo].quantile(0.75) + (iqr * 1.5)\n",
        "    filtro_inferior = df_clean[campo] > quantil25\n",
        "    filtro_superior = df_clean[campo] < quantil75\n",
        "    \n",
        "    df_filtrado = df_clean[filtro_inferior & filtro_superior]\n",
        "\n",
        "    return df_filtrado"
      ],
      "execution_count": null,
      "outputs": []
    },
    {
      "cell_type": "code",
      "metadata": {
        "id": "MWSHhIQ9Ee52"
      },
      "source": [
        "#Creamos los dataframe con las funciones\n",
        "lol = tiempo_partida(lol_matches)\n",
        "dota2 = tiempo_partida(dota2_matches)\n",
        "csgo = tiempo_partida(csgo_matches)\n",
        "ow = tiempo_partida(ow_matches)\n",
        "\n",
        "boxplot_lol = IQR_df('minutos_partidas',lol)\n",
        "boxplot_dota2 = IQR_df('minutos_partidas',dota2)\n",
        "boxplot_csgo = IQR_df('minutos_partidas',csgo)\n",
        "boxplot_ow = IQR_df('minutos_partidas',ow)"
      ],
      "execution_count": null,
      "outputs": []
    },
    {
      "cell_type": "code",
      "metadata": {
        "colab": {
          "base_uri": "https://localhost:8080/"
        },
        "id": "5CixGy8AEHc8",
        "outputId": "35ebab41-b5f2-41c3-b2d0-070b4d67838d"
      },
      "source": [
        "print(boxplot_ow['minutos_partidas'].median())\n",
        "print(boxplot_lol['minutos_partidas'].median())\n",
        "print(boxplot_dota2['minutos_partidas'].median())\n",
        "print(boxplot_csgo['minutos_partidas'].median())"
      ],
      "execution_count": null,
      "outputs": [
        {
          "output_type": "stream",
          "text": [
            "21.75\n",
            "39.15\n",
            "43.7695\n",
            "46.244\n"
          ],
          "name": "stdout"
        }
      ]
    },
    {
      "cell_type": "code",
      "metadata": {
        "colab": {
          "base_uri": "https://localhost:8080/"
        },
        "id": "gTTtgoinF9uX",
        "outputId": "c20aea72-e9d9-4815-f445-eb144e78a415"
      },
      "source": [
        "promedio = (boxplot_ow['minutos_partidas'].median()+\n",
        "                  boxplot_lol['minutos_partidas'].median()+\n",
        "                  boxplot_dota2['minutos_partidas'].median()+\n",
        "                  boxplot_csgo['minutos_partidas'].median())/4\n",
        "print(promedio)"
      ],
      "execution_count": null,
      "outputs": [
        {
          "output_type": "stream",
          "text": [
            "37.728375\n"
          ],
          "name": "stdout"
        }
      ]
    },
    {
      "cell_type": "code",
      "metadata": {
        "colab": {
          "base_uri": "https://localhost:8080/",
          "height": 829
        },
        "id": "oI0jPjGR6baY",
        "outputId": "24e33994-e583-40a5-81eb-4955a910ce83"
      },
      "source": [
        "import matplotlib.pyplot as plt\n",
        "#llamamos el paquete seaborn\n",
        "import seaborn as sns\n",
        "#Diseñamos la figura\n",
        "plt.figure(figsize=[35, 25])\n",
        "\n",
        "sns.set(style=\"white\")\n",
        "graph = sns.boxplot(data=[boxplot_ow['minutos_partidas'],\n",
        "                  boxplot_lol['minutos_partidas'],\n",
        "                  boxplot_dota2['minutos_partidas'],\n",
        "                  boxplot_csgo['minutos_partidas']],\n",
        "            palette='bwr_r',linewidth=3)\n",
        "\n",
        "graph.set_xticklabels(['OW','LoL','Dota2','CS:GO'])\n",
        "graph.axhline(promedio,color='blue', linewidth=3,ls=\"--\", )\n",
        "sns.despine()            \n",
        "plt.title(\"Duración de partidas en torneos de Esports\", fontsize = 50)\n",
        "plt.ylabel(\"Minutos\", fontsize = 40)\n",
        "plt.yticks(fontsize=30)\n",
        "plt.xlabel(\"Juegos\", fontsize = 40)\n",
        "plt.xticks(fontsize=30)\n",
        "plt.show()\n"
      ],
      "execution_count": null,
      "outputs": [
        {
          "output_type": "display_data",
          "data": {
            "image/png": "[encoded data removed]",
            "text/plain": [
              "<Figure size 2520x1800 with 1 Axes>"
            ]
          },
          "metadata": {
            "tags": []
          }
        }
      ]
    },
    {
      "cell_type": "markdown",
      "metadata": {
        "id": "jmVlAcVrFMB8"
      },
      "source": [
        "Analizando los resultados de manera muy rápida, encontramos que las medianas rondan en torno a los 25 minutos, 40 minutos, 45 minutos y 50 minutos respectivamente. Si esto llegan a tardar los profesionales, qué nos espera a nosotros los mortales? "
      ]
    }
  ]
}